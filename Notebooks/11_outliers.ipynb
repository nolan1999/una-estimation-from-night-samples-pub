{
 "cells": [
  {
   "cell_type": "code",
   "execution_count": 1,
   "id": "9f305320",
   "metadata": {},
   "outputs": [
    {
     "name": "stderr",
     "output_type": "stream",
     "text": [
      "/tmp/ipykernel_123028/396266070.py:3: DtypeWarning: Columns (12,22,23,24,25,35,36,37,38,39,44,48,49,53,54,55,61,72,76,121,122,124,125,127,136,138,139,140,141,142,143,144,152,157,158,159,161,162,163,210,216,218,219,221,233,251,252,254,503,509,511,513,515,519,523,525,527,529) have mixed types. Specify dtype option on import or set low_memory=False.\n",
      "  df = pd.read_csv('../Data/dataset_mlr.csv')\n"
     ]
    }
   ],
   "source": [
    "import matplotlib.pyplot as plt\n",
    "import pandas as pd\n",
    "df = pd.read_csv('../Data/dataset_mlr.csv')"
   ]
  },
  {
   "cell_type": "code",
   "execution_count": 2,
   "id": "18785d2a",
   "metadata": {},
   "outputs": [],
   "source": [
    "import os\n",
    "import sys\n",
    "sys.path.append(os.path.join(os.getcwd(), 'utils'))\n",
    "from variables import min_pred_col, vol_pred_col, min_pred_col_day, vol_pred_col_day, target_col"
   ]
  },
  {
   "cell_type": "code",
   "execution_count": 3,
   "id": "f4079c34",
   "metadata": {},
   "outputs": [
    {
     "data": {
      "text/plain": [
       "<matplotlib.collections.PathCollection at 0x7ea75d98c1d0>"
      ]
     },
     "execution_count": 3,
     "metadata": {},
     "output_type": "execute_result"
    },
    {
     "data": {
      "image/png": "[encoded data removed]",
      "text/plain": [
       "<Figure size 640x480 with 2 Axes>"
      ]
     },
     "metadata": {},
     "output_type": "display_data"
    }
   ],
   "source": [
    "fig, ax = plt.subplots(1, 2)\n",
    "ax[0].scatter(df[min_pred_col], df[target_col])\n",
    "ax[1].scatter(df[vol_pred_col], df[target_col])"
   ]
  },
  {
   "cell_type": "code",
   "execution_count": 4,
   "id": "a96a8aa4",
   "metadata": {},
   "outputs": [],
   "source": [
    "df['crt_kg'] = df['ucrt_u24_umol'] * 113.12 / 1000 / df['bwi']"
   ]
  },
  {
   "cell_type": "code",
   "execution_count": 5,
   "id": "c39e1bdd",
   "metadata": {},
   "outputs": [],
   "source": [
    "cols = [\n",
    "    min_pred_col, vol_pred_col,\n",
    "    'crt_kg', 'k_dis',\n",
    "    'u24_hours', 'un_hours', 'ud_hours',\n",
    "    'u24_ml', 'un_ml', 'ud_ml',\n",
    "    'una_u24_mmol', 'una_un_mmol', 'una_ud_mmol',\n",
    "    'una_u24_mmolh', 'una_un_mmolh', 'una_ud_mmolh',\n",
    "    'una_u24', 'una_un', 'una_ud',\n",
    "]"
   ]
  },
  {
   "cell_type": "code",
   "execution_count": 6,
   "id": "30febdc7",
   "metadata": {},
   "outputs": [
    {
     "name": "stderr",
     "output_type": "stream",
     "text": [
      "/tmp/ipykernel_123028/462284269.py:1: FutureWarning: Dropping of nuisance columns in DataFrame reductions (with 'numeric_only=None') is deprecated; in a future version this will raise TypeError.  Select only valid columns before calling the reduction.\n",
      "  df[cols].mean()\n"
     ]
    },
    {
     "data": {
      "text/plain": [
       "una_un_mmol_norm_min_corr     130.567603\n",
       "una_un_mmol_norm_vol_corr     139.033851\n",
       "crt_kg                         19.471672\n",
       "u24_hours                      23.930542\n",
       "un_hours                        8.030545\n",
       "ud_hours                       15.899996\n",
       "u24_ml                       1685.008537\n",
       "un_ml                         527.175299\n",
       "ud_ml                        1157.833238\n",
       "una_u24_mmol                  139.543178\n",
       "una_un_mmol                    43.259366\n",
       "una_ud_mmol                    96.283812\n",
       "una_u24_mmolh                   5.841687\n",
       "una_un_mmolh                    5.440317\n",
       "una_ud_mmolh                    6.071824\n",
       "una_u24                         0.092573\n",
       "una_un                         92.745020\n",
       "una_ud                         94.899260\n",
       "dtype: float64"
      ]
     },
     "execution_count": 6,
     "metadata": {},
     "output_type": "execute_result"
    }
   ],
   "source": [
    "df[cols].mean()"
   ]
  },
  {
   "cell_type": "markdown",
   "id": "41c61e63",
   "metadata": {},
   "source": [
    "**Cases predicted with extreme high values: is there a common factor?**"
   ]
  },
  {
   "cell_type": "code",
   "execution_count": 7,
   "id": "001854fb",
   "metadata": {},
   "outputs": [
    {
     "data": {
      "text/html": [
       "<div>\n",
       "<style scoped>\n",
       "    .dataframe tbody tr th:only-of-type {\n",
       "        vertical-align: middle;\n",
       "    }\n",
       "\n",
       "    .dataframe tbody tr th {\n",
       "        vertical-align: top;\n",
       "    }\n",
       "\n",
       "    .dataframe thead th {\n",
       "        text-align: right;\n",
       "    }\n",
       "</style>\n",
       "<table border=\"1\" class=\"dataframe\">\n",
       "  <thead>\n",
       "    <tr style=\"text-align: right;\">\n",
       "      <th></th>\n",
       "      <th>una_un_mmol_norm_min_corr</th>\n",
       "      <th>una_un_mmol_norm_vol_corr</th>\n",
       "      <th>crt_kg</th>\n",
       "      <th>k_dis</th>\n",
       "      <th>u24_hours</th>\n",
       "      <th>un_hours</th>\n",
       "      <th>ud_hours</th>\n",
       "      <th>u24_ml</th>\n",
       "      <th>un_ml</th>\n",
       "      <th>ud_ml</th>\n",
       "      <th>una_u24_mmol</th>\n",
       "      <th>una_un_mmol</th>\n",
       "      <th>una_ud_mmol</th>\n",
       "      <th>una_u24_mmolh</th>\n",
       "      <th>una_un_mmolh</th>\n",
       "      <th>una_ud_mmolh</th>\n",
       "      <th>una_u24</th>\n",
       "      <th>una_un</th>\n",
       "      <th>una_ud</th>\n",
       "    </tr>\n",
       "  </thead>\n",
       "  <tbody>\n",
       "    <tr>\n",
       "      <th>750</th>\n",
       "      <td>914.005801</td>\n",
       "      <td>967.041850</td>\n",
       "      <td>65.365057</td>\n",
       "      <td>No</td>\n",
       "      <td>24.175503</td>\n",
       "      <td>7.900729</td>\n",
       "      <td>16.274773</td>\n",
       "      <td>4686.0</td>\n",
       "      <td>1592.0</td>\n",
       "      <td>3094.0</td>\n",
       "      <td>501.997986</td>\n",
       "      <td>300.888</td>\n",
       "      <td>201.110001</td>\n",
       "      <td>20.764738</td>\n",
       "      <td>38.083576</td>\n",
       "      <td>12.357162</td>\n",
       "      <td>0.107127</td>\n",
       "      <td>189.0</td>\n",
       "      <td>65.0</td>\n",
       "    </tr>\n",
       "    <tr>\n",
       "      <th>1334</th>\n",
       "      <td>1132.137931</td>\n",
       "      <td>1099.174152</td>\n",
       "      <td>58.053054</td>\n",
       "      <td>No</td>\n",
       "      <td>21.750000</td>\n",
       "      <td>7.250000</td>\n",
       "      <td>14.500000</td>\n",
       "      <td>3280.0</td>\n",
       "      <td>2000.0</td>\n",
       "      <td>1280.0</td>\n",
       "      <td>480.240000</td>\n",
       "      <td>342.000</td>\n",
       "      <td>138.240000</td>\n",
       "      <td>22.080000</td>\n",
       "      <td>47.172414</td>\n",
       "      <td>9.533793</td>\n",
       "      <td>0.146415</td>\n",
       "      <td>171.0</td>\n",
       "      <td>108.0</td>\n",
       "    </tr>\n",
       "    <tr>\n",
       "      <th>1678</th>\n",
       "      <td>763.392000</td>\n",
       "      <td>536.705526</td>\n",
       "      <td>20.064382</td>\n",
       "      <td>No</td>\n",
       "      <td>24.750000</td>\n",
       "      <td>5.250000</td>\n",
       "      <td>19.500000</td>\n",
       "      <td>1882.0</td>\n",
       "      <td>1176.0</td>\n",
       "      <td>706.0</td>\n",
       "      <td>241.828000</td>\n",
       "      <td>166.992</td>\n",
       "      <td>74.836000</td>\n",
       "      <td>9.770828</td>\n",
       "      <td>31.808000</td>\n",
       "      <td>3.837744</td>\n",
       "      <td>0.128495</td>\n",
       "      <td>142.0</td>\n",
       "      <td>106.0</td>\n",
       "    </tr>\n",
       "  </tbody>\n",
       "</table>\n",
       "</div>"
      ],
      "text/plain": [
       "      una_un_mmol_norm_min_corr  una_un_mmol_norm_vol_corr     crt_kg k_dis  \\\n",
       "750                  914.005801                 967.041850  65.365057    No   \n",
       "1334                1132.137931                1099.174152  58.053054    No   \n",
       "1678                 763.392000                 536.705526  20.064382    No   \n",
       "\n",
       "      u24_hours  un_hours   ud_hours  u24_ml   un_ml   ud_ml  una_u24_mmol  \\\n",
       "750   24.175503  7.900729  16.274773  4686.0  1592.0  3094.0    501.997986   \n",
       "1334  21.750000  7.250000  14.500000  3280.0  2000.0  1280.0    480.240000   \n",
       "1678  24.750000  5.250000  19.500000  1882.0  1176.0   706.0    241.828000   \n",
       "\n",
       "      una_un_mmol  una_ud_mmol  una_u24_mmolh  una_un_mmolh  una_ud_mmolh  \\\n",
       "750       300.888   201.110001      20.764738     38.083576     12.357162   \n",
       "1334      342.000   138.240000      22.080000     47.172414      9.533793   \n",
       "1678      166.992    74.836000       9.770828     31.808000      3.837744   \n",
       "\n",
       "       una_u24  una_un  una_ud  \n",
       "750   0.107127   189.0    65.0  \n",
       "1334  0.146415   171.0   108.0  \n",
       "1678  0.128495   142.0   106.0  "
      ]
     },
     "execution_count": 7,
     "metadata": {},
     "output_type": "execute_result"
    }
   ],
   "source": [
    "sub = df[df[min_pred_col] > 700]\n",
    "sub[cols]"
   ]
  },
  {
   "cell_type": "code",
   "execution_count": 8,
   "id": "e704353c",
   "metadata": {},
   "outputs": [
    {
     "data": {
      "text/html": [
       "<div>\n",
       "<style scoped>\n",
       "    .dataframe tbody tr th:only-of-type {\n",
       "        vertical-align: middle;\n",
       "    }\n",
       "\n",
       "    .dataframe tbody tr th {\n",
       "        vertical-align: top;\n",
       "    }\n",
       "\n",
       "    .dataframe thead th {\n",
       "        text-align: right;\n",
       "    }\n",
       "</style>\n",
       "<table border=\"1\" class=\"dataframe\">\n",
       "  <thead>\n",
       "    <tr style=\"text-align: right;\">\n",
       "      <th></th>\n",
       "      <th>una_un_mmol_norm_min_corr</th>\n",
       "      <th>una_un_mmol_norm_vol_corr</th>\n",
       "      <th>crt_kg</th>\n",
       "      <th>k_dis</th>\n",
       "      <th>u24_hours</th>\n",
       "      <th>un_hours</th>\n",
       "      <th>ud_hours</th>\n",
       "      <th>u24_ml</th>\n",
       "      <th>un_ml</th>\n",
       "      <th>ud_ml</th>\n",
       "      <th>una_u24_mmol</th>\n",
       "      <th>una_un_mmol</th>\n",
       "      <th>una_ud_mmol</th>\n",
       "      <th>una_u24_mmolh</th>\n",
       "      <th>una_un_mmolh</th>\n",
       "      <th>una_ud_mmolh</th>\n",
       "      <th>una_u24</th>\n",
       "      <th>una_un</th>\n",
       "      <th>una_ud</th>\n",
       "    </tr>\n",
       "  </thead>\n",
       "  <tbody>\n",
       "    <tr>\n",
       "      <th>750</th>\n",
       "      <td>914.005801</td>\n",
       "      <td>967.041850</td>\n",
       "      <td>65.365057</td>\n",
       "      <td>No</td>\n",
       "      <td>24.175503</td>\n",
       "      <td>7.900729</td>\n",
       "      <td>16.274773</td>\n",
       "      <td>4686.0</td>\n",
       "      <td>1592.0</td>\n",
       "      <td>3094.0</td>\n",
       "      <td>501.997986</td>\n",
       "      <td>300.888</td>\n",
       "      <td>201.110001</td>\n",
       "      <td>20.764738</td>\n",
       "      <td>38.083576</td>\n",
       "      <td>12.357162</td>\n",
       "      <td>0.107127</td>\n",
       "      <td>189.0</td>\n",
       "      <td>65.0</td>\n",
       "    </tr>\n",
       "    <tr>\n",
       "      <th>1334</th>\n",
       "      <td>1132.137931</td>\n",
       "      <td>1099.174152</td>\n",
       "      <td>58.053054</td>\n",
       "      <td>No</td>\n",
       "      <td>21.750000</td>\n",
       "      <td>7.250000</td>\n",
       "      <td>14.500000</td>\n",
       "      <td>3280.0</td>\n",
       "      <td>2000.0</td>\n",
       "      <td>1280.0</td>\n",
       "      <td>480.240000</td>\n",
       "      <td>342.000</td>\n",
       "      <td>138.240000</td>\n",
       "      <td>22.080000</td>\n",
       "      <td>47.172414</td>\n",
       "      <td>9.533793</td>\n",
       "      <td>0.146415</td>\n",
       "      <td>171.0</td>\n",
       "      <td>108.0</td>\n",
       "    </tr>\n",
       "  </tbody>\n",
       "</table>\n",
       "</div>"
      ],
      "text/plain": [
       "      una_un_mmol_norm_min_corr  una_un_mmol_norm_vol_corr     crt_kg k_dis  \\\n",
       "750                  914.005801                 967.041850  65.365057    No   \n",
       "1334                1132.137931                1099.174152  58.053054    No   \n",
       "\n",
       "      u24_hours  un_hours   ud_hours  u24_ml   un_ml   ud_ml  una_u24_mmol  \\\n",
       "750   24.175503  7.900729  16.274773  4686.0  1592.0  3094.0    501.997986   \n",
       "1334  21.750000  7.250000  14.500000  3280.0  2000.0  1280.0    480.240000   \n",
       "\n",
       "      una_un_mmol  una_ud_mmol  una_u24_mmolh  una_un_mmolh  una_ud_mmolh  \\\n",
       "750       300.888   201.110001      20.764738     38.083576     12.357162   \n",
       "1334      342.000   138.240000      22.080000     47.172414      9.533793   \n",
       "\n",
       "       una_u24  una_un  una_ud  \n",
       "750   0.107127   189.0    65.0  \n",
       "1334  0.146415   171.0   108.0  "
      ]
     },
     "execution_count": 8,
     "metadata": {},
     "output_type": "execute_result"
    }
   ],
   "source": [
    "sub = df[df[vol_pred_col] > 700]\n",
    "sub[cols]"
   ]
  },
  {
   "cell_type": "code",
   "execution_count": 9,
   "id": "d5048c6c",
   "metadata": {},
   "outputs": [
    {
     "data": {
      "text/plain": [
       "1253     6.049211\n",
       "1320     7.560387\n",
       "296      7.972189\n",
       "324      8.004562\n",
       "795      8.526968\n",
       "          ...    \n",
       "1334    58.053054\n",
       "1024    58.129422\n",
       "791     58.506631\n",
       "629     59.637587\n",
       "750     65.365057\n",
       "Name: crt_kg, Length: 1754, dtype: float64"
      ]
     },
     "execution_count": 9,
     "metadata": {},
     "output_type": "execute_result"
    }
   ],
   "source": [
    "df[~df['crt_kg'].isna()].sort_values(by='crt_kg')['crt_kg']"
   ]
  },
  {
   "cell_type": "code",
   "execution_count": 10,
   "id": "66012aed",
   "metadata": {},
   "outputs": [
    {
     "data": {
      "text/plain": [
       "<AxesSubplot:>"
      ]
     },
     "execution_count": 10,
     "metadata": {},
     "output_type": "execute_result"
    },
    {
     "data": {
      "image/png": "[encoded data removed]",
      "text/plain": [
       "<Figure size 640x480 with 1 Axes>"
      ]
     },
     "metadata": {},
     "output_type": "display_data"
    }
   ],
   "source": [
    "df[~df['crt_kg'].isna()]['crt_kg'].hist(bins=50)"
   ]
  }
 ],
 "metadata": {
  "kernelspec": {
   "display_name": "hiwi",
   "language": "python",
   "name": "python3"
  },
  "language_info": {
   "codemirror_mode": {
    "name": "ipython",
    "version": 3
   },
   "file_extension": ".py",
   "mimetype": "text/x-python",
   "name": "python",
   "nbconvert_exporter": "python",
   "pygments_lexer": "ipython3",
   "version": "3.11.0"
  }
 },
 "nbformat": 4,
 "nbformat_minor": 5
}
