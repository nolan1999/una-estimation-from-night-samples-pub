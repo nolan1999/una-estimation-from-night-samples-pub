{
 "cells": [
  {
   "cell_type": "code",
   "execution_count": 1,
   "id": "3e95c536",
   "metadata": {},
   "outputs": [],
   "source": [
    "import matplotlib.pyplot as plt\n",
    "import numpy as np\n",
    "import os\n",
    "import pandas as pd\n",
    "import scipy\n",
    "import sys\n",
    "from functools import partial\n",
    "from sklearn.linear_model import LinearRegression\n",
    "from scipy.stats import pearsonr, spearmanr"
   ]
  },
  {
   "cell_type": "code",
   "execution_count": 2,
   "id": "3776774a",
   "metadata": {},
   "outputs": [],
   "source": [
    "%%capture\n",
    "sys.path.append(os.path.join(os.getcwd(), 'utils'))\n",
    "from descriptive_stats import get_descriptive_table"
   ]
  },
  {
   "cell_type": "markdown",
   "id": "8831e489",
   "metadata": {},
   "source": [
    "# 1) Prepare data"
   ]
  },
  {
   "cell_type": "markdown",
   "id": "bea06bac",
   "metadata": {},
   "source": [
    "## 1.1) Merge data"
   ]
  },
  {
   "cell_type": "code",
   "execution_count": 3,
   "id": "5d780c98",
   "metadata": {},
   "outputs": [],
   "source": [
    "df1 = pd.read_excel('../Data/SK1_pgeld.xlsx', index_col='sk1_id')\n",
    "df2 = pd.read_excel('../Data/SK2_pgeld.xlsx', index_col='sk1_id')\n",
    "\n",
    "# save id, unique ids per study\n",
    "df1['sk1_id'] = df1.index\n",
    "df2['sk1_id'] = df2.index\n",
    "df1['id'] = 'sk1_' + df1.index.astype(str)\n",
    "df2['id'] = 'sk2_' + df2.index.astype(str)\n",
    "df1.set_index('id', inplace=True)\n",
    "df2.set_index('id', inplace=True)"
   ]
  },
  {
   "cell_type": "code",
   "execution_count": 4,
   "id": "0575a61b",
   "metadata": {},
   "outputs": [],
   "source": [
    "# additional LR data\n",
    "df1_add = pd.read_excel('../Data/SK1_pgeld_oct2022.xlsx', index_col='sk1_id')\n",
    "df2_add = pd.read_excel('../Data/SK2_pgeld_oct2022.xlsx', index_col='sk1_id')\n",
    "\n",
    "# save id, unique ids per study\n",
    "df1_add['id'] = 'sk1_' + df1_add.index.astype(str)\n",
    "df2_add['id'] = 'sk2_' + df2_add.index.astype(str)\n",
    "df1_add.set_index('id', inplace=True)\n",
    "df2_add.set_index('id', inplace=True)\n",
    "\n",
    "df1 = df1.join(df1_add)\n",
    "df2 = df2.join(df2_add)"
   ]
  },
  {
   "cell_type": "code",
   "execution_count": 5,
   "id": "672e8a60",
   "metadata": {},
   "outputs": [
    {
     "name": "stderr",
     "output_type": "stream",
     "text": [
      "/tmp/ipykernel_306420/3174880260.py:13: PerformanceWarning: DataFrame is highly fragmented.  This is usually the result of calling `frame.insert` many times, which has poor performance.  Consider joining all columns at once using pd.concat(axis=1) instead. To get a de-fragmented frame, use `newframe = frame.copy()`\n",
      "  df1['source'] = 'sk1'\n",
      "/tmp/ipykernel_306420/3174880260.py:14: PerformanceWarning: DataFrame is highly fragmented.  This is usually the result of calling `frame.insert` many times, which has poor performance.  Consider joining all columns at once using pd.concat(axis=1) instead. To get a de-fragmented frame, use `newframe = frame.copy()`\n",
      "  df2['source'] = 'sk2'\n"
     ]
    }
   ],
   "source": [
    "# map variables\n",
    "mapping_df = pd.read_csv('../Data/vars_mapping.csv', index_col='Name')\n",
    "col = 'Corresponding follow-up var'\n",
    "mapping_df = mapping_df[(mapping_df[col] != 'MISSING') * (~mapping_df[col].isna())]\n",
    "\n",
    "for index, row in mapping_df.iterrows():\n",
    "    df2.rename(columns={row[col]: index}, inplace=True)\n",
    "\n",
    "# changed encoding\n",
    "df2['urine_incomplete'] = df2['urine_incomplete'].apply(lambda x: \"Complete\" if x == 1 else (\"Incomplete\" if x == 2 else np.nan))\n",
    "    \n",
    "# merge\n",
    "df1['source'] = 'sk1'\n",
    "df2['source'] = 'sk2'\n",
    "df_orig = pd.concat([df1, df2], ignore_index=True)"
   ]
  },
  {
   "cell_type": "code",
   "execution_count": 6,
   "id": "973f932b",
   "metadata": {},
   "outputs": [],
   "source": [
    "# sanity checks\n",
    "assert(len(df_orig) - len(df1) - len(df2) == 0)\n",
    "\n",
    "df = df_orig.copy(deep=True)"
   ]
  },
  {
   "cell_type": "code",
   "execution_count": 7,
   "id": "bf3c08b7",
   "metadata": {},
   "outputs": [
    {
     "name": "stdout",
     "output_type": "stream",
     "text": [
      "Sample size: 2163 (1129 + 1034, common 984).\n",
      "Included in SK1 but not SK2: 145.\n",
      "Included in SK2 but not SK1: 50.\n"
     ]
    }
   ],
   "source": [
    "def count_participants(df):\n",
    "    return np.array([\n",
    "        len(df),  # total\n",
    "        (df['source'] == 'sk1').sum(),  # sk1\n",
    "        (df['source'] == 'sk2').sum(),  # sk2\n",
    "        len(set(df[df['source'] == 'sk1']['sk1_id']) & set(df[df['source'] == 'sk2']['sk1_id'])),  # common\n",
    "    ])\n",
    "\n",
    "N0 = count_participants(df_orig)\n",
    "N = N0\n",
    "print('Sample size: {} ({} + {}, common {}).'.format(*N0))\n",
    "print(f\"Included in SK1 but not SK2: {len(set(df1['sk1_id']) - set(df2['sk1_id']))}.\")\n",
    "print(f\"Included in SK2 but not SK1: {len(set(df2['sk1_id']) - set(df1['sk1_id']))}.\")"
   ]
  },
  {
   "cell_type": "markdown",
   "id": "c7d1ec34",
   "metadata": {},
   "source": [
    "## 1.2) Filter data"
   ]
  },
  {
   "cell_type": "markdown",
   "id": "eb6292e6",
   "metadata": {},
   "source": [
    "### 1.2.1) Data available"
   ]
  },
  {
   "cell_type": "code",
   "execution_count": 8,
   "id": "d214befa",
   "metadata": {},
   "outputs": [
    {
     "name": "stdout",
     "output_type": "stream",
     "text": [
      "Night urinary sodium missing = [133  27 106 116].\n"
     ]
    }
   ],
   "source": [
    "# sodium collection\n",
    "df = df[~df['una_u24_mmol'].isna()]\n",
    "print(f\"Night urinary sodium missing = {N - count_participants(df)}.\")\n",
    "N = count_participants(df)"
   ]
  },
  {
   "cell_type": "code",
   "execution_count": 9,
   "id": "6dbde9cf",
   "metadata": {},
   "outputs": [
    {
     "name": "stdout",
     "output_type": "stream",
     "text": [
      "Urine missing volume = [0 0 0 0]\n"
     ]
    }
   ],
   "source": [
    "# urine volume\n",
    "df = df[~df['u24_ml'].isna()]\n",
    "print(f\"Urine missing volume = {N - count_participants(df)}\")\n",
    "N = count_participants(df)"
   ]
  },
  {
   "cell_type": "code",
   "execution_count": 10,
   "id": "15416f99",
   "metadata": {},
   "outputs": [
    {
     "name": "stdout",
     "output_type": "stream",
     "text": [
      "Creatinine missing = [2 1 1 2]\n"
     ]
    }
   ],
   "source": [
    "# creatinine\n",
    "df = df[~df['ucrt_u24_umol'].isna()]\n",
    "print(f\"Creatinine missing = {N - count_participants(df)}\")\n",
    "N = count_participants(df)"
   ]
  },
  {
   "cell_type": "code",
   "execution_count": 11,
   "id": "d6d56ce0",
   "metadata": {},
   "outputs": [
    {
     "name": "stdout",
     "output_type": "stream",
     "text": [
      "Collection durations unavailable = [3 3 0 3]\n",
      "Sample size: 2025 (1098 + 927, common 863).\n"
     ]
    }
   ],
   "source": [
    "# collection times\n",
    "df = df[~df.un_min.isna()]\n",
    "df = df[~df.u24_min.isna()]\n",
    "df = df[df.un_min > 0.]\n",
    "print(f\"Collection durations unavailable = {N - count_participants(df)}\")\n",
    "N = count_participants(df)\n",
    "print('Sample size: {} ({} + {}, common {}).'.format(*N))"
   ]
  },
  {
   "cell_type": "markdown",
   "id": "e8460952",
   "metadata": {},
   "source": [
    "### 1.2.2) Completeness criteria"
   ]
  },
  {
   "cell_type": "code",
   "execution_count": 12,
   "id": "d764662e",
   "metadata": {},
   "outputs": [
    {
     "name": "stdout",
     "output_type": "stream",
     "text": [
      "Self-reported incompleteness of collection = [16 15  1 10]\n"
     ]
    }
   ],
   "source": [
    "# self-reported completeness\n",
    "df = df[df['urine_incomplete'] == 'Complete']\n",
    "print(f\"Self-reported incompleteness of collection = {N - count_participants(df)}\")\n",
    "N = count_participants(df)"
   ]
  },
  {
   "cell_type": "code",
   "execution_count": 13,
   "id": "5e4f488c",
   "metadata": {},
   "outputs": [
    {
     "name": "stdout",
     "output_type": "stream",
     "text": [
      "Creatinine criteria not fulfilled = [22  6 16 16]\n"
     ]
    }
   ],
   "source": [
    "# creatinine criteria\n",
    "df = df[~(\n",
    "    ((df['u24_ml'] < 1e3) * (df['ucrt_u24_umol'] < (6.0 * 1e3)))\n",
    "    + (df['ucrt_u24_umol'] < (5.0 * 1e3)))]\n",
    "print(f\"Creatinine criteria not fulfilled = {N - count_participants(df)}\")\n",
    "N = count_participants(df)"
   ]
  },
  {
   "cell_type": "code",
   "execution_count": 14,
   "id": "53dad2a8",
   "metadata": {},
   "outputs": [
    {
     "name": "stdout",
     "output_type": "stream",
     "text": [
      "Sample size: 1987 (1077 + 910, common 837).\n"
     ]
    }
   ],
   "source": [
    "print('Sample size: {} ({} + {}, common {}).'.format(*N))"
   ]
  },
  {
   "cell_type": "markdown",
   "id": "de1bef3f",
   "metadata": {},
   "source": [
    "### 1.2.3) Night duration criteria"
   ]
  },
  {
   "cell_type": "code",
   "execution_count": 15,
   "id": "891b8323",
   "metadata": {},
   "outputs": [],
   "source": [
    "df['un_hours'] = df['un_min'] / 60\n",
    "df['ud_hours'] = df['ud_min'] / 60\n",
    "df['u24_hours'] = df['u24_min'] / 60"
   ]
  },
  {
   "cell_type": "code",
   "execution_count": 16,
   "id": "1fd62707",
   "metadata": {},
   "outputs": [],
   "source": [
    "df_no_min_duration = df.copy()"
   ]
  },
  {
   "cell_type": "code",
   "execution_count": 17,
   "id": "e877523e",
   "metadata": {},
   "outputs": [
    {
     "name": "stdout",
     "output_type": "stream",
     "text": [
      "Night duration not in [5, 11] = [123  51  72  86] ([ 6.19  4.74  7.91 10.27] % of the otherwise eligible participants).\n"
     ]
    }
   ],
   "source": [
    "df = df[~((df['un_hours'] < 5) + (df['un_hours'] > 11))]\n",
    "print(f\"Night duration not in [5, 11] = {N - count_participants(df)} ({(100 * (N - count_participants(df)) / N).round(2)} % of the otherwise eligible participants).\")\n",
    "N = count_participants(df)"
   ]
  },
  {
   "cell_type": "code",
   "execution_count": 18,
   "id": "6b286150",
   "metadata": {},
   "outputs": [
    {
     "data": {
      "text/plain": [
       "5.833333333333333"
      ]
     },
     "execution_count": 18,
     "metadata": {},
     "output_type": "execute_result"
    }
   ],
   "source": [
    "df['ud_hours'].min()"
   ]
  },
  {
   "cell_type": "markdown",
   "id": "97cf971e",
   "metadata": {},
   "source": [
    "### 1.2.4) Whole-day collection duration criteria"
   ]
  },
  {
   "cell_type": "code",
   "execution_count": 19,
   "id": "b5b327b1",
   "metadata": {},
   "outputs": [
    {
     "name": "stdout",
     "output_type": "stream",
     "text": [
      "Whole-day duration not in [21, 27] = [107  64  43  84] ([ 5.74  6.24  5.13 11.19] % of the otherwise eligible participants).\n"
     ]
    }
   ],
   "source": [
    "df = df[~((df['u24_hours'] < 21) + (df['u24_hours'] > 27))]\n",
    "print(f\"Whole-day duration not in [21, 27] = {N - count_participants(df)} ({(100 * (N - count_participants(df)) / N).round(2)} % of the otherwise eligible participants).\")\n",
    "N = count_participants(df)"
   ]
  },
  {
   "cell_type": "code",
   "execution_count": 20,
   "id": "09447011",
   "metadata": {},
   "outputs": [
    {
     "name": "stdout",
     "output_type": "stream",
     "text": [
      "Sample size: 1757 (962 + 795, common 667).\n"
     ]
    }
   ],
   "source": [
    "print('Sample size: {} ({} + {}, common {}).'.format(*N))"
   ]
  },
  {
   "cell_type": "markdown",
   "id": "1e0330df",
   "metadata": {},
   "source": [
    "## 1.3) Correct data"
   ]
  },
  {
   "cell_type": "markdown",
   "id": "fd12625f",
   "metadata": {},
   "source": [
    "Corrections decided after looking at the data when developing models."
   ]
  },
  {
   "cell_type": "code",
   "execution_count": 21,
   "id": "f0ddffb6",
   "metadata": {},
   "outputs": [
    {
     "name": "stdout",
     "output_type": "stream",
     "text": [
      "No     1154\n",
      "Yes      14\n",
      "NaN      10\n",
      "Name: t_now, dtype: int64\n",
      "No     1154\n",
      "Yes      84\n",
      "NaN      10\n",
      "Name: t_now, dtype: int64\n"
     ]
    }
   ],
   "source": [
    "# non-smokers should have 0 cigarettes in current smoking, not missing\n",
    "print(df[df['t_ctf'].isna()]['t_now'].value_counts(dropna=False))\n",
    "print(df[df['t_ct'].isna()]['t_now'].value_counts(dropna=False))\n",
    "df.loc[(df['t_now'] == 'No') * (df['t_ct'].isna()), 't_ct'] = 0.\n",
    "df.loc[(df['t_now'] == 'No') * (df['t_ctf'].isna()), 't_ctf'] = 0.\n",
    "# if missing in one category but not other, then probably 0\n",
    "df.loc[(df['t_ct'].isna()) * (~df['t_ctf'].isna()), 't_ct'] = 0.\n",
    "df.loc[(df['t_ctf'].isna()) * (~df['t_ct'].isna()), 't_ctf'] = 0."
   ]
  },
  {
   "cell_type": "code",
   "execution_count": 22,
   "id": "1f85ebaa",
   "metadata": {},
   "outputs": [],
   "source": [
    "def unify_labels(mapper):\n",
    "    return lambda x: mapper[x] if x in mapper else x\n",
    "\n",
    "df['e_p_past'] = df['e_p_past'].apply(unify_labels({2.0: 'No', 1.0: 'Yes', -9.0: np.nan}))\n",
    "df['p_act4'] = df['p_act4'].apply(unify_labels({2.0: 'No', 1.0: 'Yes', -9.0: np.nan}))\n",
    "df['sc_now'] = df['sc_now'].apply(unify_labels({2.0: 'No', 1.0: 'Yes', -9.0: np.nan}))\n",
    "df['origin_final'] = df['origin_final'].apply(unify_labels({-9.0: np.nan}))\n",
    "df['orig_regio'] = df['orig_regio'].apply(unify_labels({'Ne sait pas': np.nan}))\n",
    "df['p_h_income'] = df['p_h_income'].apply(unify_labels({'Not willing to answer': np.nan, 'Does not know': np.nan}))"
   ]
  },
  {
   "cell_type": "markdown",
   "id": "0a8e98e3",
   "metadata": {},
   "source": [
    "# 2) Normalization"
   ]
  },
  {
   "cell_type": "code",
   "execution_count": 23,
   "id": "de45ff2d",
   "metadata": {},
   "outputs": [
    {
     "name": "stdout",
     "output_type": "stream",
     "text": [
      "1440.0 1440.0\n"
     ]
    }
   ],
   "source": [
    "# correction to 24h values\n",
    "df['una_u24corr_mmol'] = 24 * df['una_u24_mmol'] / df['u24_hours']\n",
    "df['uk_u24corr_mmol'] = 24 * df['uk_u24_mmol'] / df['u24_hours']\n",
    "df['ucrt_u24corr_umol'] = 24 * df['ucrt_u24_umol'] / df['u24_hours']\n",
    "df['u24corr_ml'] = 24 * df['u24_ml'] / df['u24_hours']\n",
    "df['u24corr_min'] = 24 * 60 * df['u24_min'] / df['u24_min']\n",
    "print(df['u24corr_min'].min(), df['u24corr_min'].max())"
   ]
  },
  {
   "cell_type": "code",
   "execution_count": 24,
   "id": "ad9d5c12",
   "metadata": {},
   "outputs": [
    {
     "name": "stdout",
     "output_type": "stream",
     "text": [
      "Overnight volume-based normalization constant: 3.196296452242221.\n",
      "Daily volume-based normalization constant: 1.4553119406895596.\n",
      "Percentage of volume excreted overnight: 31.286209365795656.\n",
      "Percentage of volume excreted during the day: 68.71379063420434.\n",
      "Overnight volume-based normalization constant: 3.2139595082176067.\n",
      "Daily volume-based normalization constant: 1.4633541409842208.\n",
      "Percentage of volume excreted overnight: 31.114268784132214.\n",
      "Percentage of volume excreted during the day: 68.33615814470046.\n"
     ]
    }
   ],
   "source": [
    "# by duration\n",
    "# uncorrected to 24 hours\n",
    "df['una_un_mmol_norm_min'] = df.una_un_mmol * df.u24_min / df.un_min\n",
    "df['una_ud_mmol_norm_min'] = df.una_ud_mmol * df.u24_min / df.ud_min\n",
    "# corrected to 24 hours\n",
    "df['una_un_mmol_norm_min_corr'] = df.una_un_mmol * (24 * 60) / df.un_min\n",
    "df['una_ud_mmol_norm_min_corr'] = df.una_ud_mmol * (24 * 60) / df.ud_min\n",
    "\n",
    "# by average volume\n",
    "# uncorrected to 24 hours\n",
    "avg_v_n = df.un_ml.mean()\n",
    "avg_v_d = df.ud_ml.mean()\n",
    "avg_v_24 = df.u24_ml.mean()\n",
    "night_norm = avg_v_24 / avg_v_n\n",
    "day_norm = avg_v_24 / avg_v_d\n",
    "df['una_un_mmol_norm_vol'] = df.una_un_mmol * night_norm\n",
    "df['una_ud_mmol_norm_vol'] = df.una_ud_mmol * day_norm\n",
    "print(f'Overnight volume-based normalization constant: {night_norm}.')\n",
    "print(f'Daily volume-based normalization constant: {day_norm}.')\n",
    "print(f'Percentage of volume excreted overnight: {100 / night_norm}.')\n",
    "print(f'Percentage of volume excreted during the day: {100 / day_norm}.')\n",
    "# corrected to 24 hours\n",
    "avg_v_24_corr = df.u24corr_ml.mean()\n",
    "night_norm_corr = avg_v_24_corr / avg_v_n\n",
    "day_norm_corr = avg_v_24_corr / avg_v_d\n",
    "df['una_un_mmol_norm_vol_corr'] = df.una_un_mmol * night_norm_corr\n",
    "df['una_ud_mmol_norm_vol_corr'] = df.una_ud_mmol * day_norm_corr\n",
    "print(f'Overnight volume-based normalization constant: {night_norm_corr}.')\n",
    "print(f'Daily volume-based normalization constant: {day_norm_corr}.')\n",
    "print(f'Percentage of volume excreted overnight: {100 / night_norm_corr}.')\n",
    "print(f'Percentage of volume excreted during the day: {100 / day_norm_corr}.')\n"
   ]
  },
  {
   "cell_type": "code",
   "execution_count": 25,
   "id": "dc89d1ab",
   "metadata": {},
   "outputs": [],
   "source": [
    "# intersalt\n",
    "\n",
    "# formula: https://academic.oup.com/aje/article/177/11/1196/98088?login=false\n",
    "def intersalt_bis(r, time='24h'):\n",
    "    if time == 'night':\n",
    "        time = 'un'\n",
    "    elif time == 'day':\n",
    "        time = 'ud'\n",
    "    elif time == '24h':\n",
    "        time = 'u24'\n",
    "    if r['sex'] == 'Male':\n",
    "        return (23.51 + 14.60  # Western Europe: motivate - no Ticino\n",
    "                + (0.45 * r[f'una_{time}'])\n",
    "                + (-3.09 * 1e-3 * r[f'ucrt_{time}'])\n",
    "                + (4.16 * r['bmi'])\n",
    "                + (0.22 * r['age']))\n",
    "    elif r['sex'] == 'Female':\n",
    "        return (3.74 + 11.38 # Western Europe\n",
    "                + (0.33 * r[f'una_{time}'])\n",
    "                + (-2.44 * 1e-3 * r[f'ucrt_{time}'])\n",
    "                + (2.42 * r['bmi'])\n",
    "                + (2.34 * r['age'])\n",
    "                + (-0.03 * (r['age'] ** 2)))\n",
    "    else:\n",
    "        return np.nan\n",
    "\n",
    "\n",
    "# https://academic.oup.com/aje/article/177/11/1180/98120?login=false\n",
    "def intersalt(r, time='24h'):\n",
    "    if time == 'night':\n",
    "        time = 'un'\n",
    "    elif time == 'day':\n",
    "        time = 'ud'\n",
    "    elif time == '24h':\n",
    "        time = 'u24'\n",
    "    if r['sex'] == 'Male':\n",
    "        return (25.46 + 17.05  # Western Europe: motivate - no Ticino\n",
    "                + (0.46 * r[f'una_{time}'])\n",
    "                + (-2.75 * 1e-3 * r[f'ucrt_{time}'])\n",
    "                + (-0.13 * r[f'uk_{time}'])\n",
    "                + (4.10 * r['bmi'])\n",
    "                + (0.26 * r['age']))\n",
    "    elif r['sex'] == 'Female':\n",
    "        return (5.07 + 12.82 # Western Europe\n",
    "                + (0.34 * r[f'una_{time}'])\n",
    "                + (-2.16 * 1e-3 * r[f'ucrt_{time}'])\n",
    "                + (-0.09 * r[f'uk_{time}'])\n",
    "                + (2.39 * r['bmi'])\n",
    "                + (2.35 * r['age'])\n",
    "                + (-0.03 * (r['age'] ** 2)))\n",
    "    else:\n",
    "        return np.nan\n",
    "\n",
    "\n",
    "df['una_u24'] = df['una_u24_mmol'] / df['u24_ml']\n",
    "# no potassium\n",
    "df['una_un_mmol_intersalt_bis'] = df.apply(partial(intersalt_bis, time='night'), axis=1)\n",
    "df['una_ud_mmol_intersalt_bis'] = df.apply(partial(intersalt_bis, time='day'), axis=1)\n",
    "df['una_u24_mmol_intersalt_bis'] = df.apply(partial(intersalt_bis, time='24h'), axis=1)\n",
    "# potassium\n",
    "df['una_un_mmol_intersalt'] = df.apply(partial(intersalt, time='night'), axis=1)\n",
    "df['una_ud_mmol_intersalt'] = df.apply(partial(intersalt, time='day'), axis=1)\n",
    "df['una_u24_mmol_intersalt'] = df.apply(partial(intersalt, time='24h'), axis=1)"
   ]
  },
  {
   "cell_type": "code",
   "execution_count": 26,
   "id": "999f5852",
   "metadata": {},
   "outputs": [],
   "source": [
    "df.to_csv('../Data/dataset_cleaned.csv')"
   ]
  },
  {
   "cell_type": "markdown",
   "id": "2daee482",
   "metadata": {},
   "source": [
    "# 3) Descriptive statistics"
   ]
  },
  {
   "cell_type": "code",
   "execution_count": 27,
   "id": "afa79ccd",
   "metadata": {},
   "outputs": [],
   "source": [
    "def describe(col):\n",
    "    return ' '.join([\n",
    "        f'{round(np.median(col), 2)}.',\n",
    "        f'Range: {round(np.min(col), 2)}-{round(np.max(col), 2)}.',\n",
    "        f'IQR: {round(scipy.stats.iqr(col), 2)}',\n",
    "    ])"
   ]
  },
  {
   "cell_type": "markdown",
   "id": "784ffa46",
   "metadata": {},
   "source": [
    "## 3.1) Sample size"
   ]
  },
  {
   "cell_type": "code",
   "execution_count": 28,
   "id": "f529dde7",
   "metadata": {},
   "outputs": [
    {
     "name": "stdout",
     "output_type": "stream",
     "text": [
      "Initial sizes = [2163 1129 1034  984].\n"
     ]
    }
   ],
   "source": [
    "print(f\"Initial sizes = {N0}.\")"
   ]
  },
  {
   "cell_type": "code",
   "execution_count": 29,
   "id": "e77f33b9",
   "metadata": {},
   "outputs": [
    {
     "name": "stdout",
     "output_type": "stream",
     "text": [
      "Sample size = [1757  962  795  667] ([81.23 85.21 76.89 67.78] % of the initial 2163).\n"
     ]
    }
   ],
   "source": [
    "print(f\"Sample size = {N} ({(100 * N / N0).round(2)} % of the initial {N0[0]}).\")"
   ]
  },
  {
   "cell_type": "code",
   "execution_count": 30,
   "id": "6a8de808",
   "metadata": {},
   "outputs": [
    {
     "name": "stdout",
     "output_type": "stream",
     "text": [
      "Common = 667.\n"
     ]
    }
   ],
   "source": [
    "print(f\"Common = {len(set(df[df['source'] == 'sk1']['sk1_id']) & set(df[df['source'] == 'sk2']['sk1_id']))}.\")"
   ]
  },
  {
   "cell_type": "markdown",
   "id": "ad42e069",
   "metadata": {},
   "source": [
    "## 3.2) Demographics"
   ]
  },
  {
   "cell_type": "code",
   "execution_count": 31,
   "id": "abb88f4b",
   "metadata": {},
   "outputs": [
    {
     "name": "stdout",
     "output_type": "stream",
     "text": [
      "0.4786568013659647% male, 0.5213431986340353% female.\n"
     ]
    }
   ],
   "source": [
    "sex = df['sex']\n",
    "print(f\"{(sex == 'Male').sum() / N[0]}% male, {(sex == 'Female').sum() / N[0]}% female.\")"
   ]
  },
  {
   "cell_type": "code",
   "execution_count": 32,
   "id": "50d0b4af",
   "metadata": {},
   "outputs": [
    {
     "name": "stdout",
     "output_type": "stream",
     "text": [
      "Age: 50.6. Range: 17.0-90.0. IQR: 27.3\n",
      "Mean age = 49.74906091098428\n"
     ]
    },
    {
     "data": {
      "text/plain": [
       "<AxesSubplot:>"
      ]
     },
     "execution_count": 32,
     "metadata": {},
     "output_type": "execute_result"
    },
    {
     "data": {
      "image/png": "[encoded data removed]",
      "text/plain": [
       "<Figure size 640x480 with 1 Axes>"
      ]
     },
     "metadata": {},
     "output_type": "display_data"
    }
   ],
   "source": [
    "age = df['age']\n",
    "print('Age: ' + describe(age))\n",
    "print(f'Mean age = {age.mean()}')\n",
    "age.hist(bins=30)"
   ]
  },
  {
   "cell_type": "code",
   "execution_count": 33,
   "id": "84e7a49e",
   "metadata": {},
   "outputs": [
    {
     "data": {
      "text/plain": [
       "GE    0.397837\n",
       "LS    0.375071\n",
       "BE    0.227092\n",
       "Name: center, dtype: float64"
      ]
     },
     "execution_count": 33,
     "metadata": {},
     "output_type": "execute_result"
    }
   ],
   "source": [
    "center = df['center']\n",
    "center.value_counts() / N[0]"
   ]
  },
  {
   "cell_type": "markdown",
   "id": "3317a35d",
   "metadata": {},
   "source": [
    "## 3.3) Collection durations"
   ]
  },
  {
   "cell_type": "markdown",
   "id": "49b64f9b",
   "metadata": {},
   "source": [
    "### 3.3.1) 24-hour collection durations"
   ]
  },
  {
   "cell_type": "code",
   "execution_count": 34,
   "id": "5285ee85",
   "metadata": {},
   "outputs": [
    {
     "data": {
      "text/plain": [
       "6.103515625e-05"
      ]
     },
     "execution_count": 34,
     "metadata": {},
     "output_type": "execute_result"
    }
   ],
   "source": [
    "(np.abs(df.u24_min - (df.ud_min + df.un_min))).max()"
   ]
  },
  {
   "cell_type": "code",
   "execution_count": 35,
   "id": "15e5ab83",
   "metadata": {},
   "outputs": [
    {
     "name": "stdout",
     "output_type": "stream",
     "text": [
      "Median \"24 hours\" duration (all): 24.0. Range: 12.83-42.03. IQR: 1.39\n"
     ]
    }
   ],
   "source": [
    "duration = df_no_min_duration['u24_hours']\n",
    "print(f'Median \"24 hours\" duration (all): ' + describe(duration))"
   ]
  },
  {
   "cell_type": "code",
   "execution_count": 36,
   "id": "dc66c4f4",
   "metadata": {},
   "outputs": [
    {
     "name": "stdout",
     "output_type": "stream",
     "text": [
      "Median \"24 hours\" duration: 24.0. Range: 21.0-27.0. IQR: 1.24\n",
      "291 lower than 23 hours, 259 higher than 25 hours.\n",
      "110 lower than 22 hours, 46 higher than 26 hours.\n"
     ]
    }
   ],
   "source": [
    "duration = df.u24_hours\n",
    "print('Median \"24 hours\" duration: ' + describe(duration))\n",
    "print(f'{len(df[(duration < 23)])} lower than 23 hours, {len(df[(duration > 25)])} higher than 25 hours.')\n",
    "print(f'{len(df[(duration < 22)])} lower than 22 hours, {len(df[(duration > 26)])} higher than 26 hours.')"
   ]
  },
  {
   "cell_type": "code",
   "execution_count": 37,
   "id": "fb18185f",
   "metadata": {},
   "outputs": [
    {
     "data": {
      "image/png": "[encoded data removed]",
      "text/plain": [
       "<Figure size 640x480 with 1 Axes>"
      ]
     },
     "metadata": {},
     "output_type": "display_data"
    }
   ],
   "source": [
    "fig, ax = plt.subplots()\n",
    "\n",
    "max_duration = int(np.max(df['u24_hours'])) + 1\n",
    "min_duration = int(np.min(df['u24_hours']))\n",
    "bins = np.linspace(min_duration, max_duration, num=int((max_duration - min_duration) / 0.5) + 1)\n",
    "ax.hist(df['u24_hours'], bins=bins)\n",
    "ax.set_xlabel('\"24 hours\" collection duration (hours)')\n",
    "ax.set_ylabel('Frequency')\n",
    "fig.savefig('../Figures/eda/collection_duration.png')"
   ]
  },
  {
   "cell_type": "code",
   "execution_count": 38,
   "id": "3dfa23be",
   "metadata": {},
   "outputs": [
    {
     "name": "stdout",
     "output_type": "stream",
     "text": [
      "Pearson R: correlation 0.019673229466506424, p-value 0.4098671407551579\n",
      "Spearman R: correlation 0.005417449339596149, p-value 0.8204851512823567\n"
     ]
    },
    {
     "data": {
      "image/png": "[encoded data removed]",
      "text/plain": [
       "<Figure size 640x480 with 1 Axes>"
      ]
     },
     "metadata": {},
     "output_type": "display_data"
    }
   ],
   "source": [
    "fig, ax = plt.subplots()\n",
    "ax.scatter(df.u24_hours, df.una_u24_mmol, s=1)\n",
    "LR = LinearRegression(fit_intercept=True).fit(df.u24_hours.values.reshape(-1, 1), df.una_u24_mmol)\n",
    "r_squared = LR.score(df.u24_hours.values.reshape(-1, 1), df.una_u24_mmol)\n",
    "ax.plot(sorted(df.u24_hours), LR.predict(np.array(sorted(df.u24_hours.values.reshape(-1, 1)))), c='k')\n",
    "ax.set_xlabel('\"24-hours\" collection duration (hours)')\n",
    "ax.set_ylabel('Sodium excretions (mmol)')\n",
    "ax.set_title(f'duration vs excretions, $R^2$={round(r_squared, 4)}')\n",
    "fig.savefig('../Figures/eda/duration_24sodium.png')\n",
    "corr, p_value = pearsonr(df.u24_hours, df.una_u24_mmol)\n",
    "print(f'Pearson R: correlation {corr}, p-value {p_value}')\n",
    "corr, p_value = spearmanr(df.u24_hours, df.una_u24_mmol)\n",
    "print(f'Spearman R: correlation {corr}, p-value {p_value}')"
   ]
  },
  {
   "cell_type": "code",
   "execution_count": 39,
   "id": "92dccc58",
   "metadata": {},
   "outputs": [
    {
     "name": "stdout",
     "output_type": "stream",
     "text": [
      "Pearson R: correlation -0.09080583068541814, p-value 0.00013816085593872787\n",
      "Spearman R: correlation -0.0951687115142546, p-value 6.459073833106602e-05\n"
     ]
    },
    {
     "data": {
      "image/png": "[encoded data removed]",
      "text/plain": [
       "<Figure size 640x480 with 1 Axes>"
      ]
     },
     "metadata": {},
     "output_type": "display_data"
    }
   ],
   "source": [
    "fig, ax = plt.subplots()\n",
    "ax.scatter(df.u24_hours, df.una_u24corr_mmol, s=1)\n",
    "LR = LinearRegression(fit_intercept=True).fit(df.u24_hours.values.reshape(-1, 1), df.una_u24corr_mmol)\n",
    "r_squared = LR.score(df.u24_hours.values.reshape(-1, 1), df.una_u24corr_mmol)\n",
    "ax.plot(sorted(df.u24_hours), LR.predict(np.array(sorted(df.u24_hours.values.reshape(-1, 1)))), c='k')\n",
    "ax.set_xlabel('\"24-hours\" collection duration (hours)')\n",
    "ax.set_ylabel('Sodium excretions (mmol)')\n",
    "ax.set_title(f'duration vs excretions, $R^2$={round(r_squared, 4)}')\n",
    "fig.savefig('../Figures/eda/duration_24sodium_corr.png')\n",
    "corr, p_value = pearsonr(df.u24_hours, df.una_u24corr_mmol)\n",
    "print(f'Pearson R: correlation {corr}, p-value {p_value}')\n",
    "corr, p_value = spearmanr(df.u24_hours, df.una_u24corr_mmol)\n",
    "print(f'Spearman R: correlation {corr}, p-value {p_value}')"
   ]
  },
  {
   "cell_type": "code",
   "execution_count": 40,
   "id": "99d037dc",
   "metadata": {},
   "outputs": [
    {
     "name": "stdout",
     "output_type": "stream",
     "text": [
      "6.103515625e-05\n",
      "1.52587890625e-05\n",
      "49.67999999999995\n",
      "4.856485706397219\n"
     ]
    }
   ],
   "source": [
    "print((df.un_min + df.ud_min - df.u24_min).abs().max())\n",
    "print((df.una_un_mmol + df.una_ud_mmol - df.una_u24_mmol).abs().max())\n",
    "print((df.una_un_mmol + df.una_ud_mmol - df.una_u24corr_mmol).abs().max())\n",
    "print((df.una_un_mmol + df.una_ud_mmol - df.una_u24corr_mmol).abs().mean())"
   ]
  },
  {
   "cell_type": "code",
   "execution_count": 41,
   "id": "02406fb5",
   "metadata": {},
   "outputs": [
    {
     "data": {
      "image/png": "[encoded data removed]",
      "text/plain": [
       "<Figure size 640x480 with 1 Axes>"
      ]
     },
     "metadata": {},
     "output_type": "display_data"
    }
   ],
   "source": [
    "fig, ax = plt.subplots()\n",
    "\n",
    "all_24 = df['una_u24_mmol']\n",
    "filtered_24 = df[~((df['u24_hours'] < 23) + (df['u24_hours'] > 25))].una_u24_mmol\n",
    "max_ = np.max([all_24.max(), filtered_24.max()])\n",
    "bins = np.linspace(0, max_, num=50)\n",
    "ax.hist(all_24, bins=bins, label='All', density=True, alpha=0.3)\n",
    "ax.hist(filtered_24, bins=bins, label='$\\in$ [23, 25] hours', density=True, alpha=0.3)\n",
    "ax.legend();"
   ]
  },
  {
   "cell_type": "code",
   "execution_count": 42,
   "id": "b2b9e242",
   "metadata": {},
   "outputs": [
    {
     "data": {
      "image/png": "[encoded data removed]",
      "text/plain": [
       "<Figure size 640x480 with 1 Axes>"
      ]
     },
     "metadata": {},
     "output_type": "display_data"
    }
   ],
   "source": [
    "fig, ax = plt.subplots()\n",
    "\n",
    "all_24 = df['una_u24corr_mmol']\n",
    "filtered_24 = df[~((df['u24_hours'] < 23) + (df['u24_hours'] > 25))].una_u24_mmol\n",
    "max_ = np.max([all_24.max(), filtered_24.max()])\n",
    "bins = np.linspace(0, max_, num=50)\n",
    "ax.hist(all_24, bins=bins, label='All', density=True, alpha=0.3)\n",
    "ax.hist(filtered_24, bins=bins, label='$\\in$ [23, 25] hours', density=True, alpha=0.3)\n",
    "ax.legend();"
   ]
  },
  {
   "cell_type": "markdown",
   "id": "a13265a3",
   "metadata": {},
   "source": [
    "### 3.3.2) Night collection duration"
   ]
  },
  {
   "cell_type": "code",
   "execution_count": 43,
   "id": "cc5d80b9",
   "metadata": {},
   "outputs": [
    {
     "data": {
      "image/png": "[encoded data removed]",
      "text/plain": [
       "<Figure size 640x480 with 1 Axes>"
      ]
     },
     "metadata": {},
     "output_type": "display_data"
    }
   ],
   "source": [
    "fig, ax = plt.subplots()\n",
    "\n",
    "max_duration = int(np.max(df_no_min_duration['un_hours'])) + 1\n",
    "bins = np.linspace(0, max_duration, num=int(max_duration / 0.5) + 1)\n",
    "ax.hist(df_no_min_duration['un_hours'], bins=bins, color='red', label='Not eligible')\n",
    "ax.hist(df['un_hours'], bins=bins, color='blue', label='Sample')\n",
    "handles, labels = ax.get_legend_handles_labels()\n",
    "ax.set_xlabel('Night duration')\n",
    "ax.legend(handles[::-1], labels[::-1], loc='upper left');"
   ]
  },
  {
   "cell_type": "code",
   "execution_count": 44,
   "id": "2efd82e8",
   "metadata": {},
   "outputs": [
    {
     "name": "stdout",
     "output_type": "stream",
     "text": [
      "Median night duration (all): 8.01. Range: 1.0-42.0. IQR: 1.74\n"
     ]
    }
   ],
   "source": [
    "duration = df_no_min_duration['un_hours']\n",
    "print(f'Median night duration (all): ' + describe(duration))"
   ]
  },
  {
   "cell_type": "code",
   "execution_count": 45,
   "id": "806de64e",
   "metadata": {
    "scrolled": true
   },
   "outputs": [
    {
     "name": "stdout",
     "output_type": "stream",
     "text": [
      "Median night duration (filtered): 8.0. Range: 5.0-11.0. IQR: 1.5\n"
     ]
    }
   ],
   "source": [
    "duration = df['un_hours']\n",
    "print(f'Median night duration (filtered): ' + describe(duration))"
   ]
  },
  {
   "cell_type": "markdown",
   "id": "bdc7db00",
   "metadata": {},
   "source": [
    "### 3.3.3) Day collection duration"
   ]
  },
  {
   "cell_type": "code",
   "execution_count": 46,
   "id": "a9829c5d",
   "metadata": {},
   "outputs": [
    {
     "data": {
      "image/png": "[encoded data removed]",
      "text/plain": [
       "<Figure size 640x480 with 1 Axes>"
      ]
     },
     "metadata": {},
     "output_type": "display_data"
    }
   ],
   "source": [
    "fig, ax = plt.subplots()\n",
    "\n",
    "max_duration = int(np.max(df_no_min_duration['ud_hours'])) + 1\n",
    "bins = np.linspace(0, max_duration, num=int(max_duration / 0.5) + 1)\n",
    "ax.hist(df_no_min_duration['ud_hours'], bins=bins, color='red', label='Not eligible')\n",
    "ax.hist(df['ud_hours'], bins=bins, color='blue', label='Sample')\n",
    "handles, labels = ax.get_legend_handles_labels()\n",
    "ax.set_xlabel('Day duration')\n",
    "ax.legend(handles[::-1], labels[::-1], loc='upper left');"
   ]
  },
  {
   "cell_type": "markdown",
   "id": "db4736ec",
   "metadata": {},
   "source": [
    "## 3.4) Excretions"
   ]
  },
  {
   "cell_type": "markdown",
   "id": "068090f8",
   "metadata": {},
   "source": [
    "### 3.4.1) Volume"
   ]
  },
  {
   "cell_type": "code",
   "execution_count": 47,
   "id": "e16966af",
   "metadata": {},
   "outputs": [
    {
     "name": "stdout",
     "output_type": "stream",
     "text": [
      "Median urine volume (night) [mL]: 450.0. Range: 60.0-3820.0. IQR: 370.0\n",
      "Median urine volume (day) [mL]: 1066.0. Range: 139.0-4200.0. IQR: 782.0\n",
      "Median urine volume (24 hours) [mL]: 1557.0. Range: 300.0-7350.0. IQR: 974.0\n",
      "Median urine volume (24 hours corrected) [mL]: 1564.09. Range: 322.6-7274.23. IQR: 966.89\n",
      "\n",
      "Less than 500mL: 0.005691519635742743. More than 5000mL: 0.001707455890722823.\n",
      "\n",
      "Less than 500mL (corr.): 0.006829823562891292. More than 5000mL: 0.001707455890722823.\n"
     ]
    },
    {
     "data": {
      "image/png": "[encoded data removed]",
      "text/plain": [
       "<Figure size 1200x300 with 4 Axes>"
      ]
     },
     "metadata": {},
     "output_type": "display_data"
    }
   ],
   "source": [
    "night_volume = df.un_ml\n",
    "day_volume = df.ud_ml\n",
    "total_volume = df.u24_ml\n",
    "total_volume_corr = df.u24corr_ml\n",
    "\n",
    "fig, ax = plt.subplots(1, 4, figsize=(12, 3))\n",
    "ax[0].hist(night_volume, bins=30)\n",
    "ax[0].set(title='Night', xlabel='Urine volume')\n",
    "ax[1].hist(day_volume, bins=30)\n",
    "ax[1].set(title='Day', xlabel='Urine volume')\n",
    "ax[2].hist(total_volume, bins=30)\n",
    "ax[2].set(title='24 hours', xlabel='Urine volume')\n",
    "ax[3].hist(total_volume_corr, bins=30)\n",
    "ax[3].set(title='24 hours (corrected for duration)', xlabel='Urine volume')\n",
    "\n",
    "print(f'Median urine volume (night) [mL]: ' + describe(night_volume))\n",
    "print(f'Median urine volume (day) [mL]: ' + describe(day_volume))\n",
    "print(f'Median urine volume (24 hours) [mL]: ' + describe(total_volume))\n",
    "print(f'Median urine volume (24 hours corrected) [mL]: ' + describe(total_volume_corr))\n",
    "print(f'\\nLess than 500mL: {np.mean(total_volume < 500)}. More than 5000mL: {np.mean(total_volume > 5000)}.')\n",
    "print(f'\\nLess than 500mL (corr.): {np.mean(total_volume_corr < 500)}. More than 5000mL: {np.mean(total_volume_corr > 5000)}.')"
   ]
  },
  {
   "cell_type": "code",
   "execution_count": 48,
   "id": "f88f7d06",
   "metadata": {},
   "outputs": [
    {
     "name": "stdout",
     "output_type": "stream",
     "text": [
      "Average proportion of volume at night: 0.32042959215900846\n"
     ]
    }
   ],
   "source": [
    "print(f\"Average proportion of volume at night: {(df.un_ml / df.u24corr_ml).mean()}\")"
   ]
  },
  {
   "cell_type": "markdown",
   "id": "452aba59",
   "metadata": {},
   "source": [
    "### 3.4.2) Sodium"
   ]
  },
  {
   "cell_type": "code",
   "execution_count": 49,
   "id": "246baec6",
   "metadata": {},
   "outputs": [
    {
     "name": "stdout",
     "output_type": "stream",
     "text": [
      "Median urinary sodium (night) [mmol]: 37.5. Range: 2.24-342.0. IQR: 30.8\n",
      "Median urinary sodium (day) [mmol]: 90.77. Range: 4.4-364.56. IQR: 58.94\n",
      "Median urinary sodium [mmol]: 132.58. Range: 10.5-502.0. IQR: 76.4\n",
      "Median urinary sodium (24 hours corrected) [mmol]: 131.88. Range: 9.51-529.92. IQR: 75.96\n"
     ]
    },
    {
     "data": {
      "image/png": "[encoded data removed]",
      "text/plain": [
       "<Figure size 1200x300 with 4 Axes>"
      ]
     },
     "metadata": {},
     "output_type": "display_data"
    }
   ],
   "source": [
    "night_na = df.una_un_mmol\n",
    "day_na = df.una_ud_mmol\n",
    "total_na = df.una_u24_mmol\n",
    "total_na_corr = df.una_u24corr_mmol\n",
    "\n",
    "fig, ax = plt.subplots(1, 4, figsize=(12, 3))\n",
    "ax[0].hist(night_na, bins=30)\n",
    "ax[0].set(title='Night', xlabel='UNa')\n",
    "ax[1].hist(day_na, bins=30)\n",
    "ax[1].set(title='Day', xlabel='UNa')\n",
    "ax[2].hist(total_na, bins=30)\n",
    "ax[2].set(title='24 hours', xlabel='UNa')\n",
    "ax[3].hist(total_na_corr, bins=30)\n",
    "ax[3].set(title='24 hours (corrected for duration)', xlabel='UNa')\n",
    "\n",
    "\n",
    "print(f'Median urinary sodium (night) [mmol]: ' + describe(night_na))\n",
    "print(f'Median urinary sodium (day) [mmol]: ' + describe(day_na))\n",
    "print(f'Median urinary sodium [mmol]: ' + describe(total_na))\n",
    "print(f'Median urinary sodium (24 hours corrected) [mmol]: ' + describe(total_na_corr))"
   ]
  },
  {
   "cell_type": "code",
   "execution_count": 50,
   "id": "a9680c0f",
   "metadata": {},
   "outputs": [
    {
     "name": "stdout",
     "output_type": "stream",
     "text": [
      "Average proportion of sodium excreted at night: 0.31470991491372713\n"
     ]
    }
   ],
   "source": [
    "print(f\"Average proportion of sodium excreted at night: {(night_na / total_na_corr).mean()}\")"
   ]
  },
  {
   "cell_type": "markdown",
   "id": "c962c222",
   "metadata": {},
   "source": [
    "# 4) Tables"
   ]
  },
  {
   "cell_type": "markdown",
   "id": "04bdbb15",
   "metadata": {},
   "source": [
    "## 4.1) Demographics"
   ]
  },
  {
   "cell_type": "code",
   "execution_count": 51,
   "id": "44ba4172",
   "metadata": {},
   "outputs": [
    {
     "name": "stderr",
     "output_type": "stream",
     "text": [
      "R[write to console]: Loading required package: grid\n",
      "\n",
      "R[write to console]: Loading required package: Matrix\n",
      "\n",
      "R[write to console]: Loading required package: survival\n",
      "\n",
      "R[write to console]: \n",
      "Attaching package: ‘survey’\n",
      "\n",
      "\n",
      "R[write to console]: The following object is masked from ‘package:graphics’:\n",
      "\n",
      "    dotchart\n",
      "\n",
      "\n"
     ]
    },
    {
     "name": "stdout",
     "output_type": "stream",
     "text": [
      "      mean     SE\n",
      "age 48.421 0.5534\n",
      "    variance     SE\n",
      "age    294.6 9.7428\n",
      "[1] 962\n",
      "      mean     SE\n",
      "bmi 25.064 0.1445\n",
      "    variance    SE\n",
      "bmi   20.062 1.178\n",
      "[1] 961\n",
      "      mean     SE\n",
      "bh1 170.64 0.2884\n",
      "    variance     SE\n",
      "bh1   79.914 3.3011\n",
      "[1] 961\n",
      "      mean     SE\n",
      "bwi 73.157 0.4803\n",
      "    variance     SE\n",
      "bwi   221.66 11.498\n",
      "[1] 961\n",
      "          mean     SE\n",
      "rate1_5 66.941 0.3699\n",
      "        variance     SE\n",
      "rate1_5   121.91 8.5114\n",
      "[1] 891\n",
      "         mean     SE\n",
      "sbp1_5 118.21 0.5384\n",
      "       variance     SE\n",
      "sbp1_5   277.74 15.615\n",
      "[1] 958\n",
      "         mean     SE\n",
      "dbp1_5 75.695 0.3133\n",
      "       variance     SE\n",
      "dbp1_5   94.055 4.3654\n",
      "[1] 958\n",
      "         mean     SE\n",
      "t_now 0.23117 0.0136\n",
      "      variance     SE\n",
      "t_now  0.17792 0.0073\n",
      "[1] 956\n",
      "           mean     SE\n",
      "t_p_past 0.4819 0.0168\n",
      "         variance    SE\n",
      "t_p_past  0.24996 6e-04\n",
      "[1] 884\n",
      "                         mean     SE\n",
      "hypertension_combined 0.32042 0.0151\n",
      "                      variance     SE\n",
      "hypertension_combined  0.21798 0.0054\n",
      "[1] 955\n",
      "          mean    SE\n",
      "d_hypt 0.20042 0.013\n",
      "       variance     SE\n",
      "d_hypt  0.16042 0.0078\n",
      "[1] 953\n",
      "                      mean     SE\n",
      "diabetes_combined 0.043432 0.0066\n",
      "                  variance     SE\n",
      "diabetes_combined  0.04159 0.0061\n",
      "[1] 944\n",
      "           mean     SE\n",
      "d_diab 0.028125 0.0053\n",
      "       variance    SE\n",
      "d_diab 0.027362 0.005\n",
      "[1] 960\n",
      "                    mean     SE\n",
      "obesity_combined 0.12903 0.0108\n",
      "                 variance    SE\n",
      "obesity_combined   0.1125 0.008\n",
      "[1] 961\n",
      "      mean    SE\n",
      "age 51.356 0.595\n",
      "    variance     SE\n",
      "age   281.43 10.275\n",
      "[1] 795\n",
      "      mean     SE\n",
      "bmi 25.458 0.1629\n",
      "    variance     SE\n",
      "bmi   21.017 1.3418\n",
      "[1] 792\n",
      "      mean     SE\n",
      "bh1 170.36 0.3238\n",
      "    variance     SE\n",
      "bh1   83.043 4.9602\n",
      "[1] 792\n",
      "      mean     SE\n",
      "bwi 74.039 0.5394\n",
      "    variance     SE\n",
      "bwi   230.68 13.975\n",
      "[1] 793\n",
      "          mean     SE\n",
      "rate1_5 65.822 0.3882\n",
      "        variance     SE\n",
      "rate1_5    107.3 7.9841\n",
      "[1] 712\n",
      "         mean     SE\n",
      "sbp1_5 117.99 0.5501\n",
      "       variance     SE\n",
      "sbp1_5      240 14.459\n",
      "[1] 793\n",
      "         mean     SE\n",
      "dbp1_5 74.188 0.3249\n",
      "       variance     SE\n",
      "dbp1_5   83.699 4.9107\n",
      "[1] 793\n",
      "         mean     SE\n",
      "t_now 0.23641 0.0151\n",
      "      variance    SE\n",
      "t_now  0.18075 0.008\n",
      "[1] 791\n",
      "            mean     SE\n",
      "t_p_past 0.48285 0.0185\n",
      "         variance    SE\n",
      "t_p_past  0.25005 6e-04\n",
      "[1] 729\n",
      "                         mean    SE\n",
      "hypertension_combined 0.28157 0.016\n",
      "                      variance    SE\n",
      "hypertension_combined  0.20254 0.007\n",
      "[1] 792\n",
      "            mean SE\n",
      "d_hyptFALSE    0  0\n",
      "d_hyptTRUE     0  0\n",
      "       variance SE\n",
      "d_hypt        0  0\n",
      "[1] 0\n",
      "                      mean     SE\n",
      "diabetes_combined 0.059645 0.0084\n",
      "                  variance     SE\n",
      "diabetes_combined 0.056158 0.0074\n",
      "[1] 788\n",
      "           mean     SE\n",
      "d_diab 0.044248 0.0073\n",
      "       variance     SE\n",
      "d_diab 0.042343 0.0067\n",
      "[1] 791\n",
      "                    mean    SE\n",
      "obesity_combined 0.15783 0.013\n",
      "                 variance     SE\n",
      "obesity_combined  0.13309 0.0089\n",
      "[1] 792\n",
      "      mean     SE\n",
      "age 49.749 0.5273\n",
      "    variance     SE\n",
      "age   290.61 9.1129\n",
      "[1] 1757\n",
      "      mean     SE\n",
      "bmi 25.242 0.1405\n",
      "    variance     SE\n",
      "bmi    20.52 1.1112\n",
      "[1] 1753\n",
      "      mean     SE\n",
      "bh1 170.52 0.2831\n",
      "    variance     SE\n",
      "bh1   81.301 3.4815\n",
      "[1] 1753\n",
      "      mean     SE\n",
      "bwi 73.556 0.4679\n",
      "    variance     SE\n",
      "bwi    225.8 11.488\n",
      "[1] 1754\n",
      "          mean     SE\n",
      "rate1_5 66.444 0.3162\n",
      "        variance     SE\n",
      "rate1_5   115.66 6.3637\n",
      "[1] 1603\n",
      "         mean     SE\n",
      "sbp1_5 118.11 0.4737\n",
      "       variance     SE\n",
      "sbp1_5   260.51 12.203\n",
      "[1] 1751\n",
      "         mean     SE\n",
      "dbp1_5 75.013 0.2736\n",
      "       variance     SE\n",
      "dbp1_5   89.877 3.7127\n",
      "[1] 1751\n",
      "         mean     SE\n",
      "t_now 0.23354 0.0127\n",
      "      variance     SE\n",
      "t_now   0.1791 0.0068\n",
      "[1] 1747\n",
      "            mean     SE\n",
      "t_p_past 0.48233 0.0157\n",
      "         variance    SE\n",
      "t_p_past  0.24984 6e-04\n",
      "[1] 1613\n",
      "                        mean     SE\n",
      "hypertension_combined 0.3028 0.0138\n",
      "                      variance     SE\n",
      "hypertension_combined  0.21123 0.0055\n",
      "[1] 1747\n",
      "          mean    SE\n",
      "d_hypt 0.20042 0.013\n",
      "       variance     SE\n",
      "d_hypt  0.16042 0.0078\n",
      "[1] 953\n",
      "                      mean     SE\n",
      "diabetes_combined 0.050808 0.0065\n",
      "                  variance     SE\n",
      "diabetes_combined 0.048255 0.0058\n",
      "[1] 1732\n",
      "           mean     SE\n",
      "d_diab 0.035408 0.0056\n",
      "       variance     SE\n",
      "d_diab 0.034174 0.0052\n",
      "[1] 1751\n",
      "                    mean     SE\n",
      "obesity_combined 0.14204 0.0105\n",
      "                 variance     SE\n",
      "obesity_combined  0.12194 0.0075\n",
      "[1] 1753\n"
     ]
    },
    {
     "data": {
      "text/html": [
       "<div>\n",
       "<style scoped>\n",
       "    .dataframe tbody tr th:only-of-type {\n",
       "        vertical-align: middle;\n",
       "    }\n",
       "\n",
       "    .dataframe tbody tr th {\n",
       "        vertical-align: top;\n",
       "    }\n",
       "\n",
       "    .dataframe thead th {\n",
       "        text-align: right;\n",
       "    }\n",
       "</style>\n",
       "<table border=\"1\" class=\"dataframe\">\n",
       "  <thead>\n",
       "    <tr style=\"text-align: right;\">\n",
       "      <th></th>\n",
       "      <th>Baseline [N=962]</th>\n",
       "      <th>Follow-up [N=795]</th>\n",
       "      <th>Pooled [N=1757]</th>\n",
       "    </tr>\n",
       "  </thead>\n",
       "  <tbody>\n",
       "    <tr>\n",
       "      <th>Age [years]</th>\n",
       "      <td>48.4(0.6) +- 17.2(3.1) [N=962]</td>\n",
       "      <td>51.4(0.6) +- 16.8(3.2) [N=795]</td>\n",
       "      <td>49.7(0.5) +- 17.0(3.0) [N=1757]</td>\n",
       "    </tr>\n",
       "    <tr>\n",
       "      <th>BMI [kg/m2]</th>\n",
       "      <td>25.1(0.1) +- 4.5(1.1) [N=961]</td>\n",
       "      <td>25.5(0.2) +- 4.6(1.2) [N=792]</td>\n",
       "      <td>25.2(0.1) +- 4.5(1.1) [N=1753]</td>\n",
       "    </tr>\n",
       "    <tr>\n",
       "      <th>Body height [cm]</th>\n",
       "      <td>170.6(0.3) +- 8.9(1.8) [N=961]</td>\n",
       "      <td>170.4(0.3) +- 9.1(2.2) [N=792]</td>\n",
       "      <td>170.5(0.3) +- 9.0(1.9) [N=1753]</td>\n",
       "    </tr>\n",
       "    <tr>\n",
       "      <th>Body weight [kg]</th>\n",
       "      <td>73.2(0.5) +- 14.9(3.4) [N=961]</td>\n",
       "      <td>74.0(0.5) +- 15.2(3.7) [N=793]</td>\n",
       "      <td>73.6(0.5) +- 15.0(3.4) [N=1754]</td>\n",
       "    </tr>\n",
       "    <tr>\n",
       "      <th>Heart rate (mean of 5) [bpm]</th>\n",
       "      <td>66.9(0.4) +- 11.0(2.9) [N=891]</td>\n",
       "      <td>65.8(0.4) +- 10.4(2.8) [N=712]</td>\n",
       "      <td>66.4(0.3) +- 10.8(2.5) [N=1603]</td>\n",
       "    </tr>\n",
       "    <tr>\n",
       "      <th>Systolic blood pressure (mean of 5) [mmHg]</th>\n",
       "      <td>118.2(0.5) +- 16.7(4.0) [N=958]</td>\n",
       "      <td>118.0(0.6) +- 15.5(3.8) [N=793]</td>\n",
       "      <td>118.1(0.5) +- 16.1(3.5) [N=1751]</td>\n",
       "    </tr>\n",
       "    <tr>\n",
       "      <th>Diastolic blood pressure (mean of 5) [mmHg]</th>\n",
       "      <td>75.7(0.3) +- 9.7(2.1) [N=958]</td>\n",
       "      <td>74.2(0.3) +- 9.1(2.2) [N=793]</td>\n",
       "      <td>75.0(0.3) +- 9.5(1.9) [N=1751]</td>\n",
       "    </tr>\n",
       "    <tr>\n",
       "      <th>Current smoker [Yes/No]</th>\n",
       "      <td>23.1% [N=956]</td>\n",
       "      <td>23.6% [N=791]</td>\n",
       "      <td>23.4% [N=1747]</td>\n",
       "    </tr>\n",
       "    <tr>\n",
       "      <th>Past smoker [Yes/No]</th>\n",
       "      <td>48.2% [N=884]</td>\n",
       "      <td>48.3% [N=729]</td>\n",
       "      <td>48.2% [N=1613]</td>\n",
       "    </tr>\n",
       "    <tr>\n",
       "      <th>Hypertensive [Yes/No]</th>\n",
       "      <td>32.0% [N=955]</td>\n",
       "      <td>28.2% [N=792]</td>\n",
       "      <td>30.3% [N=1747]</td>\n",
       "    </tr>\n",
       "    <tr>\n",
       "      <th>Taking anti-hypertensive drug [Yes/No]</th>\n",
       "      <td>20.0% [N=953]</td>\n",
       "      <td>nan% [N=0]</td>\n",
       "      <td>20.0% [N=953]</td>\n",
       "    </tr>\n",
       "    <tr>\n",
       "      <th>Diabetic [Yes/No]</th>\n",
       "      <td>4.3% [N=944]</td>\n",
       "      <td>6.0% [N=788]</td>\n",
       "      <td>5.1% [N=1732]</td>\n",
       "    </tr>\n",
       "    <tr>\n",
       "      <th>Treated for diabetes [Yes/No]</th>\n",
       "      <td>2.8% [N=960]</td>\n",
       "      <td>4.4% [N=791]</td>\n",
       "      <td>3.5% [N=1751]</td>\n",
       "    </tr>\n",
       "    <tr>\n",
       "      <th>Obese [Yes/No]</th>\n",
       "      <td>12.9% [N=961]</td>\n",
       "      <td>15.8% [N=792]</td>\n",
       "      <td>14.2% [N=1753]</td>\n",
       "    </tr>\n",
       "  </tbody>\n",
       "</table>\n",
       "</div>"
      ],
      "text/plain": [
       "                                                            Baseline [N=962]  \\\n",
       "Age [years]                                   48.4(0.6) +- 17.2(3.1) [N=962]   \n",
       "BMI [kg/m2]                                    25.1(0.1) +- 4.5(1.1) [N=961]   \n",
       "Body height [cm]                              170.6(0.3) +- 8.9(1.8) [N=961]   \n",
       "Body weight [kg]                              73.2(0.5) +- 14.9(3.4) [N=961]   \n",
       "Heart rate (mean of 5) [bpm]                  66.9(0.4) +- 11.0(2.9) [N=891]   \n",
       "Systolic blood pressure (mean of 5) [mmHg]   118.2(0.5) +- 16.7(4.0) [N=958]   \n",
       "Diastolic blood pressure (mean of 5) [mmHg]    75.7(0.3) +- 9.7(2.1) [N=958]   \n",
       "Current smoker [Yes/No]                                        23.1% [N=956]   \n",
       "Past smoker [Yes/No]                                           48.2% [N=884]   \n",
       "Hypertensive [Yes/No]                                          32.0% [N=955]   \n",
       "Taking anti-hypertensive drug [Yes/No]                         20.0% [N=953]   \n",
       "Diabetic [Yes/No]                                               4.3% [N=944]   \n",
       "Treated for diabetes [Yes/No]                                   2.8% [N=960]   \n",
       "Obese [Yes/No]                                                 12.9% [N=961]   \n",
       "\n",
       "                                                           Follow-up [N=795]  \\\n",
       "Age [years]                                   51.4(0.6) +- 16.8(3.2) [N=795]   \n",
       "BMI [kg/m2]                                    25.5(0.2) +- 4.6(1.2) [N=792]   \n",
       "Body height [cm]                              170.4(0.3) +- 9.1(2.2) [N=792]   \n",
       "Body weight [kg]                              74.0(0.5) +- 15.2(3.7) [N=793]   \n",
       "Heart rate (mean of 5) [bpm]                  65.8(0.4) +- 10.4(2.8) [N=712]   \n",
       "Systolic blood pressure (mean of 5) [mmHg]   118.0(0.6) +- 15.5(3.8) [N=793]   \n",
       "Diastolic blood pressure (mean of 5) [mmHg]    74.2(0.3) +- 9.1(2.2) [N=793]   \n",
       "Current smoker [Yes/No]                                        23.6% [N=791]   \n",
       "Past smoker [Yes/No]                                           48.3% [N=729]   \n",
       "Hypertensive [Yes/No]                                          28.2% [N=792]   \n",
       "Taking anti-hypertensive drug [Yes/No]                            nan% [N=0]   \n",
       "Diabetic [Yes/No]                                               6.0% [N=788]   \n",
       "Treated for diabetes [Yes/No]                                   4.4% [N=791]   \n",
       "Obese [Yes/No]                                                 15.8% [N=792]   \n",
       "\n",
       "                                                              Pooled [N=1757]  \n",
       "Age [years]                                   49.7(0.5) +- 17.0(3.0) [N=1757]  \n",
       "BMI [kg/m2]                                    25.2(0.1) +- 4.5(1.1) [N=1753]  \n",
       "Body height [cm]                              170.5(0.3) +- 9.0(1.9) [N=1753]  \n",
       "Body weight [kg]                              73.6(0.5) +- 15.0(3.4) [N=1754]  \n",
       "Heart rate (mean of 5) [bpm]                  66.4(0.3) +- 10.8(2.5) [N=1603]  \n",
       "Systolic blood pressure (mean of 5) [mmHg]   118.1(0.5) +- 16.1(3.5) [N=1751]  \n",
       "Diastolic blood pressure (mean of 5) [mmHg]    75.0(0.3) +- 9.5(1.9) [N=1751]  \n",
       "Current smoker [Yes/No]                                        23.4% [N=1747]  \n",
       "Past smoker [Yes/No]                                           48.2% [N=1613]  \n",
       "Hypertensive [Yes/No]                                          30.3% [N=1747]  \n",
       "Taking anti-hypertensive drug [Yes/No]                          20.0% [N=953]  \n",
       "Diabetic [Yes/No]                                               5.1% [N=1732]  \n",
       "Treated for diabetes [Yes/No]                                   3.5% [N=1751]  \n",
       "Obese [Yes/No]                                                 14.2% [N=1753]  "
      ]
     },
     "execution_count": 51,
     "metadata": {},
     "output_type": "execute_result"
    }
   ],
   "source": [
    "cols_num = {\n",
    "    'age': 'Age [years]', 'bmi': 'BMI [kg/m2]', 'bh1': 'Body height [cm]', 'bwi': 'Body weight [kg]',\n",
    "    'rate1_5': 'Heart rate (mean of 5) [bpm]', 'sbp1_5': 'Systolic blood pressure (mean of 5) [mmHg]', 'dbp1_5': 'Diastolic blood pressure (mean of 5) [mmHg]',\n",
    "}\n",
    "cols_bin = {\n",
    "    't_now': 'Current smoker [Yes/No]', 't_p_past': 'Past smoker [Yes/No]',\n",
    "    'hypertension_combined': 'Hypertensive [Yes/No]', 'd_hypt': 'Taking anti-hypertensive drug [Yes/No]',\n",
    "    'diabetes_combined': 'Diabetic [Yes/No]', 'd_diab': 'Treated for diabetes [Yes/No]',\n",
    "    'obesity_combined': 'Obese [Yes/No]',\n",
    "}\n",
    "descr_stats = get_descriptive_table(df, cols_num, cols_bin)\n",
    "descr_stats.to_csv('../Figures/eda/descriptive_stats.csv')\n",
    "descr_stats"
   ]
  },
  {
   "cell_type": "markdown",
   "id": "792adf5c",
   "metadata": {},
   "source": [
    "## 4.2) Urinary measurements"
   ]
  },
  {
   "cell_type": "code",
   "execution_count": 52,
   "id": "8e1f800b",
   "metadata": {},
   "outputs": [],
   "source": [
    "for time in ('u24', 'ud', 'un'):\n",
    "    df[f'ucrt_{time}_mmol'] = df[f'ucrt_{time}_umol'] / 1000\n",
    "df['ucrt_u24corr_mmol'] = df['ucrt_u24corr_umol'] / 1000"
   ]
  },
  {
   "cell_type": "code",
   "execution_count": 53,
   "id": "06619a7b",
   "metadata": {},
   "outputs": [
    {
     "name": "stdout",
     "output_type": "stream",
     "text": [
      "          mean     SE\n",
      "u24_min 1436.9 2.1465\n",
      "        variance     SE\n",
      "u24_min   4432.2 210.56\n",
      "[1] 962\n",
      "         mean     SE\n",
      "u24_ml 1717.8 23.965\n",
      "       variance    SE\n",
      "u24_ml   552481 39855\n",
      "[1] 962\n",
      "               mean     SE\n",
      "una_u24_mmol 142.51 1.9678\n",
      "             variance     SE\n",
      "una_u24_mmol   3725.2 243.96\n",
      "[1] 962\n",
      "            mean     SE\n",
      "uk_u24_mmol 64.3 0.7346\n",
      "            variance     SE\n",
      "uk_u24_mmol   519.16 31.755\n",
      "[1] 962\n",
      "                mean     SE\n",
      "ucrt_u24_mmol 12.832 0.1329\n",
      "              variance     SE\n",
      "ucrt_u24_mmol   16.986 1.2995\n",
      "[1] 962\n",
      "          mean     SE\n",
      "u24_min 1434.6 2.3792\n",
      "        variance    SE\n",
      "u24_min   4500.1 246.7\n",
      "[1] 795\n",
      "         mean     SE\n",
      "u24_ml 1645.3 25.162\n",
      "       variance    SE\n",
      "u24_ml   503334 48450\n",
      "[1] 795\n",
      "               mean     SE\n",
      "una_u24_mmol 135.95 2.0163\n",
      "             variance     SE\n",
      "una_u24_mmol   3232.2 227.48\n",
      "[1] 795\n",
      "              mean     SE\n",
      "uk_u24_mmol 63.705 0.7445\n",
      "            variance     SE\n",
      "uk_u24_mmol   440.64 27.129\n",
      "[1] 795\n",
      "               mean     SE\n",
      "ucrt_u24_mmol 12.32 0.1484\n",
      "              variance     SE\n",
      "ucrt_u24_mmol    17.51 1.7683\n",
      "[1] 795\n",
      "          mean     SE\n",
      "u24_min 1435.8 1.6287\n",
      "        variance     SE\n",
      "u24_min   4461.7 165.65\n",
      "[1] 1757\n",
      "       mean    SE\n",
      "u24_ml 1685 20.79\n",
      "       variance    SE\n",
      "u24_ml   531249 36100\n",
      "[1] 1757\n",
      "               mean     SE\n",
      "una_u24_mmol 139.54 1.5847\n",
      "             variance     SE\n",
      "una_u24_mmol   3510.8 172.48\n",
      "[1] 1757\n",
      "              mean    SE\n",
      "uk_u24_mmol 64.031 0.601\n",
      "            variance    SE\n",
      "uk_u24_mmol   483.44 22.51\n",
      "[1] 1757\n",
      "              mean     SE\n",
      "ucrt_u24_mmol 12.6 0.1218\n",
      "              variance     SE\n",
      "ucrt_u24_mmol   17.278 1.1275\n",
      "[1] 1757\n",
      "         mean     SE\n",
      "ud_min 949.57 2.5997\n",
      "       variance     SE\n",
      "ud_min   6501.6 358.78\n",
      "[1] 962\n",
      "      mean    SE\n",
      "ud_ml 1189 19.02\n",
      "      variance    SE\n",
      "ud_ml   348019 20634\n",
      "[1] 962\n",
      "              mean     SE\n",
      "una_ud_mmol 98.618 1.5326\n",
      "            variance     SE\n",
      "una_ud_mmol   2259.6 143.73\n",
      "[1] 962\n",
      "            mean     SE\n",
      "uk_ud_mmol 48.97 0.6211\n",
      "           variance     SE\n",
      "uk_ud_mmol   371.15 18.683\n",
      "[1] 962\n",
      "               mean     SE\n",
      "ucrt_ud_mmol 8.2924 0.0948\n",
      "             variance     SE\n",
      "ucrt_ud_mmol   8.6516 0.5099\n",
      "[1] 962\n",
      "         mean     SE\n",
      "ud_min 959.36 2.7469\n",
      "       variance     SE\n",
      "ud_min   5998.5 338.06\n",
      "[1] 795\n",
      "        mean     SE\n",
      "ud_ml 1120.2 19.577\n",
      "      variance    SE\n",
      "ud_ml   304689 20333\n",
      "[1] 795\n",
      "             mean     SE\n",
      "una_ud_mmol 93.46 1.5644\n",
      "            variance     SE\n",
      "una_ud_mmol   1945.7 99.893\n",
      "[1] 795\n",
      "             mean     SE\n",
      "uk_ud_mmol 48.299 0.6552\n",
      "           variance     SE\n",
      "uk_ud_mmol   341.27 20.289\n",
      "[1] 795\n",
      "               mean     SE\n",
      "ucrt_ud_mmol 7.8483 0.1025\n",
      "             variance     SE\n",
      "ucrt_ud_mmol   8.3485 0.5443\n",
      "[1] 795\n",
      "       mean     SE\n",
      "ud_min  954 2.0011\n",
      "       variance     SE\n",
      "ud_min   6294.1 254.61\n",
      "[1] 1757\n",
      "        mean     SE\n",
      "ud_ml 1157.8 16.115\n",
      "      variance    SE\n",
      "ud_ml   329401 16459\n",
      "[1] 1757\n",
      "              mean     SE\n",
      "una_ud_mmol 96.284 1.2321\n",
      "            variance     SE\n",
      "una_ud_mmol     2123 95.357\n",
      "[1] 1757\n",
      "             mean     SE\n",
      "uk_ud_mmol 48.666 0.5107\n",
      "           variance     SE\n",
      "uk_ud_mmol   357.54 14.562\n",
      "[1] 1757\n",
      "               mean    SE\n",
      "ucrt_ud_mmol 8.0914 0.083\n",
      "             variance    SE\n",
      "ucrt_ud_mmol   8.5585 0.402\n",
      "[1] 1757\n",
      "         mean     SE\n",
      "un_min 487.29 2.1281\n",
      "       variance  SE\n",
      "un_min   4356.7 194\n",
      "[1] 962\n",
      "        mean    SE\n",
      "un_ml 528.89 9.978\n",
      "      variance     SE\n",
      "un_ml    95777 8894.1\n",
      "[1] 962\n",
      "              mean     SE\n",
      "una_un_mmol 43.893 0.8943\n",
      "            variance     SE\n",
      "una_un_mmol   769.41 91.333\n",
      "[1] 962\n",
      "             mean  SE\n",
      "uk_un_mmol 15.331 0.3\n",
      "           variance     SE\n",
      "uk_un_mmol   86.571 16.233\n",
      "[1] 962\n",
      "               mean     SE\n",
      "ucrt_un_mmol 4.5393 0.0625\n",
      "             variance     SE\n",
      "ucrt_un_mmol   3.7613 0.5128\n",
      "[1] 962\n",
      "         mean     SE\n",
      "un_min 475.23 2.4034\n",
      "       variance    SE\n",
      "un_min     4592 231.3\n",
      "[1] 795\n",
      "       mean     SE\n",
      "un_ml 525.1 11.767\n",
      "      variance    SE\n",
      "un_ml   110083 15887\n",
      "[1] 795\n",
      "              mean    SE\n",
      "una_un_mmol 42.493 0.981\n",
      "            variance     SE\n",
      "una_un_mmol   765.02 128.63\n",
      "[1] 795\n",
      "             mean     SE\n",
      "uk_un_mmol 15.406 0.3451\n",
      "           variance     SE\n",
      "uk_un_mmol   94.705 15.664\n",
      "[1] 795\n",
      "               mean     SE\n",
      "ucrt_un_mmol 4.4719 0.0879\n",
      "             variance     SE\n",
      "ucrt_un_mmol   6.1483 1.4248\n",
      "[1] 795\n",
      "         mean     SE\n",
      "un_min 481.83 1.7561\n",
      "       variance     SE\n",
      "un_min   4496.6 157.15\n",
      "[1] 1757\n",
      "        mean     SE\n",
      "un_ml 527.18 8.7062\n",
      "      variance   SE\n",
      "un_ml   102194 9194\n",
      "[1] 1757\n",
      "              mean     SE\n",
      "una_un_mmol 43.259 0.7179\n",
      "            variance     SE\n",
      "una_un_mmol   767.47 76.301\n",
      "[1] 1757\n",
      "             mean     SE\n",
      "uk_un_mmol 15.365 0.2428\n",
      "           variance     SE\n",
      "uk_un_mmol   90.201 11.485\n",
      "[1] 1757\n",
      "               mean     SE\n",
      "ucrt_un_mmol 4.5088 0.0593\n",
      "             variance     SE\n",
      "ucrt_un_mmol   4.8396 0.7024\n",
      "[1] 1757\n",
      "            mean SE\n",
      "u24corr_min 1440  0\n",
      "            variance SE\n",
      "u24corr_min        0  0\n",
      "[1] 962\n",
      "             mean     SE\n",
      "u24corr_ml 1725.4 24.362\n",
      "           variance    SE\n",
      "u24corr_ml   570960 42959\n",
      "[1] 962\n",
      "                   mean     SE\n",
      "una_u24corr_mmol 142.93 1.9644\n",
      "                 variance     SE\n",
      "una_u24corr_mmol   3712.2 238.04\n",
      "[1] 962\n",
      "                  mean     SE\n",
      "uk_u24corr_mmol 64.472 0.7339\n",
      "                variance     SE\n",
      "uk_u24corr_mmol   518.08 31.454\n",
      "[1] 962\n",
      "                    mean     SE\n",
      "ucrt_u24corr_mmol 12.865 0.1323\n",
      "                  variance     SE\n",
      "ucrt_u24corr_mmol   16.833 1.3192\n",
      "[1] 962\n",
      "            mean SE\n",
      "u24corr_min 1440  0\n",
      "            variance SE\n",
      "u24corr_min        0  0\n",
      "[1] 795\n",
      "             mean     SE\n",
      "u24corr_ml 1656.7 25.667\n",
      "           variance    SE\n",
      "u24corr_ml   523732 48678\n",
      "[1] 795\n",
      "                  mean     SE\n",
      "una_u24corr_mmol 136.9 2.0633\n",
      "                 variance     SE\n",
      "una_u24corr_mmol   3384.5 259.97\n",
      "[1] 795\n",
      "                  mean    SE\n",
      "uk_u24corr_mmol 64.044 0.752\n",
      "                variance     SE\n",
      "uk_u24corr_mmol   449.58 28.278\n",
      "[1] 795\n",
      "                    mean    SE\n",
      "ucrt_u24corr_mmol 12.388 0.151\n",
      "                  variance     SE\n",
      "ucrt_u24corr_mmol   18.119 2.0618\n",
      "[1] 795\n",
      "            mean SE\n",
      "u24corr_min 1440  0\n",
      "            variance SE\n",
      "u24corr_min        0  0\n",
      "[1] 1757\n",
      "             mean     SE\n",
      "u24corr_ml 1694.3 21.086\n",
      "           variance    SE\n",
      "u24corr_ml   550449 37337\n",
      "[1] 1757\n",
      "                  mean     SE\n",
      "una_u24corr_mmol 140.2 1.5986\n",
      "                 variance     SE\n",
      "una_u24corr_mmol   3570.9 179.24\n",
      "[1] 1757\n",
      "                  mean    SE\n",
      "uk_u24corr_mmol 64.278 0.602\n",
      "                variance     SE\n",
      "uk_u24corr_mmol   486.86 22.632\n",
      "[1] 1757\n",
      "                    mean     SE\n",
      "ucrt_u24corr_mmol 12.649 0.1226\n",
      "                  variance     SE\n",
      "ucrt_u24corr_mmol   17.461 1.2307\n",
      "[1] 1757\n"
     ]
    },
    {
     "data": {
      "text/html": [
       "<div>\n",
       "<style scoped>\n",
       "    .dataframe tbody tr th:only-of-type {\n",
       "        vertical-align: middle;\n",
       "    }\n",
       "\n",
       "    .dataframe tbody tr th {\n",
       "        vertical-align: top;\n",
       "    }\n",
       "\n",
       "    .dataframe thead th {\n",
       "        text-align: right;\n",
       "    }\n",
       "</style>\n",
       "<table border=\"1\" class=\"dataframe\">\n",
       "  <thead>\n",
       "    <tr style=\"text-align: right;\">\n",
       "      <th></th>\n",
       "      <th></th>\n",
       "      <th>Baseline [N=962]</th>\n",
       "      <th>Follow-up [N=795]</th>\n",
       "      <th>Pooled [N=1757]</th>\n",
       "    </tr>\n",
       "    <tr>\n",
       "      <th></th>\n",
       "      <th></th>\n",
       "      <th></th>\n",
       "      <th></th>\n",
       "      <th></th>\n",
       "    </tr>\n",
       "  </thead>\n",
       "  <tbody>\n",
       "    <tr>\n",
       "      <th rowspan=\"4\" valign=\"top\">Urinary creatinine [mmol]</th>\n",
       "      <th>24-hour</th>\n",
       "      <td>12.8(0.1) +- 4.1(1.1)</td>\n",
       "      <td>12.3(0.1) +- 4.2(1.3)</td>\n",
       "      <td>12.6(0.1) +- 4.2(1.1)</td>\n",
       "    </tr>\n",
       "    <tr>\n",
       "      <th>24-hour (corr)</th>\n",
       "      <td>12.9(0.1) +- 4.1(1.1)</td>\n",
       "      <td>12.4(0.2) +- 4.3(1.4)</td>\n",
       "      <td>12.6(0.1) +- 4.2(1.1)</td>\n",
       "    </tr>\n",
       "    <tr>\n",
       "      <th>Day-time</th>\n",
       "      <td>8.3(0.1) +- 2.9(0.7)</td>\n",
       "      <td>7.8(0.1) +- 2.9(0.7)</td>\n",
       "      <td>8.1(0.1) +- 2.9(0.6)</td>\n",
       "    </tr>\n",
       "    <tr>\n",
       "      <th>Night-time</th>\n",
       "      <td>4.5(0.1) +- 1.9(0.7)</td>\n",
       "      <td>4.5(0.1) +- 2.5(1.2)</td>\n",
       "      <td>4.5(0.1) +- 2.2(0.8)</td>\n",
       "    </tr>\n",
       "    <tr>\n",
       "      <th rowspan=\"4\" valign=\"top\">Urinary potassium [mmol]</th>\n",
       "      <th>24-hour</th>\n",
       "      <td>64.3(0.7) +- 22.8(5.6)</td>\n",
       "      <td>63.7(0.7) +- 21.0(5.2)</td>\n",
       "      <td>64.0(0.6) +- 22.0(4.7)</td>\n",
       "    </tr>\n",
       "    <tr>\n",
       "      <th>24-hour (corr)</th>\n",
       "      <td>64.5(0.7) +- 22.8(5.6)</td>\n",
       "      <td>64.0(0.8) +- 21.2(5.3)</td>\n",
       "      <td>64.3(0.6) +- 22.1(4.8)</td>\n",
       "    </tr>\n",
       "    <tr>\n",
       "      <th>Day-time</th>\n",
       "      <td>49.0(0.6) +- 19.3(4.3)</td>\n",
       "      <td>48.3(0.7) +- 18.5(4.5)</td>\n",
       "      <td>48.7(0.5) +- 18.9(3.8)</td>\n",
       "    </tr>\n",
       "    <tr>\n",
       "      <th>Night-time</th>\n",
       "      <td>15.3(0.3) +- 9.3(4.0)</td>\n",
       "      <td>15.4(0.3) +- 9.7(4.0)</td>\n",
       "      <td>15.4(0.2) +- 9.5(3.4)</td>\n",
       "    </tr>\n",
       "    <tr>\n",
       "      <th rowspan=\"4\" valign=\"top\">Urinary sodium [mmol]</th>\n",
       "      <th>24-hour</th>\n",
       "      <td>142.5(2.0) +- 61.0(15.6)</td>\n",
       "      <td>136.0(2.0) +- 56.9(15.1)</td>\n",
       "      <td>139.5(1.6) +- 59.3(13.1)</td>\n",
       "    </tr>\n",
       "    <tr>\n",
       "      <th>24-hour (corr)</th>\n",
       "      <td>142.9(2.0) +- 60.9(15.4)</td>\n",
       "      <td>136.9(2.1) +- 58.2(16.1)</td>\n",
       "      <td>140.2(1.6) +- 59.8(13.4)</td>\n",
       "    </tr>\n",
       "    <tr>\n",
       "      <th>Day-time</th>\n",
       "      <td>98.6(1.5) +- 47.5(12.0)</td>\n",
       "      <td>93.5(1.6) +- 44.1(10.0)</td>\n",
       "      <td>96.3(1.2) +- 46.1(9.8)</td>\n",
       "    </tr>\n",
       "    <tr>\n",
       "      <th>Night-time</th>\n",
       "      <td>43.9(0.9) +- 27.7(9.6)</td>\n",
       "      <td>42.5(1.0) +- 27.7(11.3)</td>\n",
       "      <td>43.3(0.7) +- 27.7(8.7)</td>\n",
       "    </tr>\n",
       "    <tr>\n",
       "      <th rowspan=\"4\" valign=\"top\">Urine collection duration [HH:MM]</th>\n",
       "      <th>24-hour</th>\n",
       "      <td>23:57(00:02) +- 01:07(00:14)</td>\n",
       "      <td>23:55(00:02) +- 01:07(00:16)</td>\n",
       "      <td>23:56(00:02) +- 01:07(00:13)</td>\n",
       "    </tr>\n",
       "    <tr>\n",
       "      <th>24-hour (corr)</th>\n",
       "      <td>24:00(00:00) +- 00:00(00:00)</td>\n",
       "      <td>24:00(00:00) +- 00:00(00:00)</td>\n",
       "      <td>24:00(00:00) +- 00:00(00:00)</td>\n",
       "    </tr>\n",
       "    <tr>\n",
       "      <th>Day-time</th>\n",
       "      <td>15:50(00:03) +- 01:21(00:19)</td>\n",
       "      <td>15:59(00:03) +- 01:17(00:18)</td>\n",
       "      <td>15:54(00:02) +- 01:19(00:16)</td>\n",
       "    </tr>\n",
       "    <tr>\n",
       "      <th>Night-time</th>\n",
       "      <td>08:07(00:02) +- 01:06(00:14)</td>\n",
       "      <td>07:55(00:02) +- 01:08(00:15)</td>\n",
       "      <td>08:02(00:02) +- 01:07(00:12)</td>\n",
       "    </tr>\n",
       "    <tr>\n",
       "      <th rowspan=\"4\" valign=\"top\">Urine collection volume [mL]</th>\n",
       "      <th>24-hour</th>\n",
       "      <td>1717.8(24.0) +- 743.3(199.6)</td>\n",
       "      <td>1645.3(25.2) +- 709.5(220.1)</td>\n",
       "      <td>1685.0(20.8) +- 728.9(190.0)</td>\n",
       "    </tr>\n",
       "    <tr>\n",
       "      <th>24-hour (corr)</th>\n",
       "      <td>1725.4(24.4) +- 755.6(207.3)</td>\n",
       "      <td>1656.7(25.7) +- 723.7(220.6)</td>\n",
       "      <td>1694.3(21.1) +- 741.9(193.2)</td>\n",
       "    </tr>\n",
       "    <tr>\n",
       "      <th>Day-time</th>\n",
       "      <td>1189.0(19.0) +- 589.9(143.6)</td>\n",
       "      <td>1120.2(19.6) +- 552.0(142.6)</td>\n",
       "      <td>1157.8(16.1) +- 573.9(128.3)</td>\n",
       "    </tr>\n",
       "    <tr>\n",
       "      <th>Night-time</th>\n",
       "      <td>528.9(10.0) +- 309.5(94.3)</td>\n",
       "      <td>525.1(11.8) +- 331.8(126.0)</td>\n",
       "      <td>527.2(8.7) +- 319.7(95.9)</td>\n",
       "    </tr>\n",
       "  </tbody>\n",
       "</table>\n",
       "</div>"
      ],
      "text/plain": [
       "                                                              Baseline [N=962]  \\\n",
       "                                                                                 \n",
       "Urinary creatinine [mmol]         24-hour                12.8(0.1) +- 4.1(1.1)   \n",
       "                                  24-hour (corr)         12.9(0.1) +- 4.1(1.1)   \n",
       "                                  Day-time                8.3(0.1) +- 2.9(0.7)   \n",
       "                                  Night-time              4.5(0.1) +- 1.9(0.7)   \n",
       "Urinary potassium [mmol]          24-hour               64.3(0.7) +- 22.8(5.6)   \n",
       "                                  24-hour (corr)        64.5(0.7) +- 22.8(5.6)   \n",
       "                                  Day-time              49.0(0.6) +- 19.3(4.3)   \n",
       "                                  Night-time             15.3(0.3) +- 9.3(4.0)   \n",
       "Urinary sodium [mmol]             24-hour             142.5(2.0) +- 61.0(15.6)   \n",
       "                                  24-hour (corr)      142.9(2.0) +- 60.9(15.4)   \n",
       "                                  Day-time             98.6(1.5) +- 47.5(12.0)   \n",
       "                                  Night-time            43.9(0.9) +- 27.7(9.6)   \n",
       "Urine collection duration [HH:MM] 24-hour         23:57(00:02) +- 01:07(00:14)   \n",
       "                                  24-hour (corr)  24:00(00:00) +- 00:00(00:00)   \n",
       "                                  Day-time        15:50(00:03) +- 01:21(00:19)   \n",
       "                                  Night-time      08:07(00:02) +- 01:06(00:14)   \n",
       "Urine collection volume [mL]      24-hour         1717.8(24.0) +- 743.3(199.6)   \n",
       "                                  24-hour (corr)  1725.4(24.4) +- 755.6(207.3)   \n",
       "                                  Day-time        1189.0(19.0) +- 589.9(143.6)   \n",
       "                                  Night-time        528.9(10.0) +- 309.5(94.3)   \n",
       "\n",
       "                                                             Follow-up [N=795]  \\\n",
       "                                                                                 \n",
       "Urinary creatinine [mmol]         24-hour                12.3(0.1) +- 4.2(1.3)   \n",
       "                                  24-hour (corr)         12.4(0.2) +- 4.3(1.4)   \n",
       "                                  Day-time                7.8(0.1) +- 2.9(0.7)   \n",
       "                                  Night-time              4.5(0.1) +- 2.5(1.2)   \n",
       "Urinary potassium [mmol]          24-hour               63.7(0.7) +- 21.0(5.2)   \n",
       "                                  24-hour (corr)        64.0(0.8) +- 21.2(5.3)   \n",
       "                                  Day-time              48.3(0.7) +- 18.5(4.5)   \n",
       "                                  Night-time             15.4(0.3) +- 9.7(4.0)   \n",
       "Urinary sodium [mmol]             24-hour             136.0(2.0) +- 56.9(15.1)   \n",
       "                                  24-hour (corr)      136.9(2.1) +- 58.2(16.1)   \n",
       "                                  Day-time             93.5(1.6) +- 44.1(10.0)   \n",
       "                                  Night-time           42.5(1.0) +- 27.7(11.3)   \n",
       "Urine collection duration [HH:MM] 24-hour         23:55(00:02) +- 01:07(00:16)   \n",
       "                                  24-hour (corr)  24:00(00:00) +- 00:00(00:00)   \n",
       "                                  Day-time        15:59(00:03) +- 01:17(00:18)   \n",
       "                                  Night-time      07:55(00:02) +- 01:08(00:15)   \n",
       "Urine collection volume [mL]      24-hour         1645.3(25.2) +- 709.5(220.1)   \n",
       "                                  24-hour (corr)  1656.7(25.7) +- 723.7(220.6)   \n",
       "                                  Day-time        1120.2(19.6) +- 552.0(142.6)   \n",
       "                                  Night-time       525.1(11.8) +- 331.8(126.0)   \n",
       "\n",
       "                                                               Pooled [N=1757]  \n",
       "                                                                                \n",
       "Urinary creatinine [mmol]         24-hour                12.6(0.1) +- 4.2(1.1)  \n",
       "                                  24-hour (corr)         12.6(0.1) +- 4.2(1.1)  \n",
       "                                  Day-time                8.1(0.1) +- 2.9(0.6)  \n",
       "                                  Night-time              4.5(0.1) +- 2.2(0.8)  \n",
       "Urinary potassium [mmol]          24-hour               64.0(0.6) +- 22.0(4.7)  \n",
       "                                  24-hour (corr)        64.3(0.6) +- 22.1(4.8)  \n",
       "                                  Day-time              48.7(0.5) +- 18.9(3.8)  \n",
       "                                  Night-time             15.4(0.2) +- 9.5(3.4)  \n",
       "Urinary sodium [mmol]             24-hour             139.5(1.6) +- 59.3(13.1)  \n",
       "                                  24-hour (corr)      140.2(1.6) +- 59.8(13.4)  \n",
       "                                  Day-time              96.3(1.2) +- 46.1(9.8)  \n",
       "                                  Night-time            43.3(0.7) +- 27.7(8.7)  \n",
       "Urine collection duration [HH:MM] 24-hour         23:56(00:02) +- 01:07(00:13)  \n",
       "                                  24-hour (corr)  24:00(00:00) +- 00:00(00:00)  \n",
       "                                  Day-time        15:54(00:02) +- 01:19(00:16)  \n",
       "                                  Night-time      08:02(00:02) +- 01:07(00:12)  \n",
       "Urine collection volume [mL]      24-hour         1685.0(20.8) +- 728.9(190.0)  \n",
       "                                  24-hour (corr)  1694.3(21.1) +- 741.9(193.2)  \n",
       "                                  Day-time        1157.8(16.1) +- 573.9(128.3)  \n",
       "                                  Night-time         527.2(8.7) +- 319.7(95.9)  "
      ]
     },
     "execution_count": 53,
     "metadata": {},
     "output_type": "execute_result"
    }
   ],
   "source": [
    "cols = {\n",
    "    '{time}_min': 'Urine collection duration [HH:MM]', '{time}_ml': 'Urine collection volume [mL]',\n",
    "    'una_{time}_mmol': 'Urinary sodium [mmol]', 'uk_{time}_mmol': 'Urinary potassium [mmol]', 'ucrt_{time}_mmol': 'Urinary creatinine [mmol]',\n",
    "}\n",
    "ts = []\n",
    "for pref, lab in [\n",
    "    ('u24', '24-hour'), ('ud', 'Day-time'), ('un', 'Night-time'), ('u24corr', '24-hour (corr)')\n",
    "]:\n",
    "    cols_num = dict(zip([c.format(time=pref) for c in cols], cols.values()))\n",
    "    t = get_descriptive_table(df, cols_num, {}, show_count=False)\n",
    "    t['Time'] = lab\n",
    "    ts.append(t.reset_index().rename(columns={'index': '', 'Time': ' '}).set_index(['', ' ']))\n",
    "urine_stats = pd.concat(ts).sort_index()\n",
    "urine_stats.to_csv('../Figures/eda/urine_stats_corr.csv')\n",
    "urine_stats"
   ]
  },
  {
   "cell_type": "code",
   "execution_count": 54,
   "id": "87192e37",
   "metadata": {},
   "outputs": [
    {
     "data": {
      "text/plain": [
       "(4.508835484825765, 12.600274769637966, 12.649182855202861)"
      ]
     },
     "execution_count": 54,
     "metadata": {},
     "output_type": "execute_result"
    }
   ],
   "source": [
    "df.ucrt_un_mmol.mean(), df.ucrt_u24_mmol.mean(), df.ucrt_u24corr_mmol.mean()"
   ]
  },
  {
   "cell_type": "code",
   "execution_count": 55,
   "id": "98ef0946",
   "metadata": {},
   "outputs": [
    {
     "data": {
      "text/plain": [
       "(0.3578362827206278, 0.35645270816613983)"
      ]
     },
     "execution_count": 55,
     "metadata": {},
     "output_type": "execute_result"
    }
   ],
   "source": [
    "df.ucrt_un_mmol.mean() / df.ucrt_u24_mmol.mean(), df.ucrt_un_mmol.mean() / df.ucrt_u24corr_mmol.mean()"
   ]
  }
 ],
 "metadata": {
  "kernelspec": {
   "display_name": "Python 3 (ipykernel)",
   "language": "python",
   "name": "python3"
  },
  "language_info": {
   "codemirror_mode": {
    "name": "ipython",
    "version": 3
   },
   "file_extension": ".py",
   "mimetype": "text/x-python",
   "name": "python",
   "nbconvert_exporter": "python",
   "pygments_lexer": "ipython3",
   "version": "3.11.0"
  }
 },
 "nbformat": 4,
 "nbformat_minor": 5
}
